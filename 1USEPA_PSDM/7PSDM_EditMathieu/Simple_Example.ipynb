{
 "cells": [
  {
   "cell_type": "markdown",
   "id": "50ed16ac-f34f-455e-8ad5-9cd320db3308",
   "metadata": {
    "tags": []
   },
   "source": [
    "# Simple Example of using the Pore and Surface Diffusion Model (PSDM)\n",
    "\n",
    "Originally developed by Michigan Technological University, coded in Python by US Environmental Protection Agency\n",
    "\n",
    "This can be used to model granular activated carbon (GAC) systems."
   ]
  },
  {
   "cell_type": "code",
   "execution_count": 1,
   "id": "57c9e228-7344-45ec-87c2-21a54dfec490",
   "metadata": {
    "tags": []
   },
   "outputs": [
    {
     "name": "stdout",
     "output_type": "stream",
     "text": [
      "//Mathieu: self calculated b1 =  PFHpA    0.43565\n",
      "dtype: float64\n",
      "//Mathieu: self calculated b2 =  PFHpA    0.360309\n",
      "dtype: float64\n"
     ]
    }
   ],
   "source": [
    "## Import Required Packages\n",
    "import warnings\n",
    "warnings.simplefilter(\"ignore\")\n",
    "\n",
    "import numpy as np\n",
    "import pandas as pd\n",
    "import pylab as plt\n",
    "\n",
    "import os\n",
    "srt_dir = os.getcwd()\n",
    "\n",
    "import PSDM\n",
    "os.chdir(srt_dir)"
   ]
  },
  {
   "cell_type": "markdown",
   "id": "e55d2a38-1e9c-4b36-aa17-117574cc1488",
   "metadata": {},
   "source": [
    "## Files\n",
    "\n",
    "This example uses \"Example_TCE.xlsx\" as its input file. \n",
    "\n",
    "Sheet \"Properties\" has chemical properties of compounds you wish to model. You can have more compounds in your Properties sheet than the model needs, so it may be helpful to create a standard sheet for numerous projects. \n",
    "\n",
    "Sheet \"Kdata\" has K [(ug/g)(L/ug)^(1/n)] & 1/n (unitless) information. 'brk' stores the days to complete breakthrough. 'q' is solid phase concentration (ug/g). 'AveC' is the average concentration (ug/L). This information can be calculated by the model for fitting data, but this provides a mechanism for storing/inputing these values for some simulations. \n",
    "\n",
    "Sheet \"data\" has a data structure for ['type', 'time', 'concentration', 'compound']. Where type corresponds to where samples were taken (e.g., 'influent', 'effluent'). 'Time' is numeric and should the maximum value determines the lengh of simulations (The units of 'Time' are listed in the \"columnSpecs\" sheet). 'Concentration' units are also listed in \"columnSpecs\". 'Compounds' should match those in \"Properties\", and should provide information for both influent and effluent data. \n",
    "\n",
    "Sheet \"columnSpecs\" has column information. \n",
    "\n",
    "An example of reading in these sheets is shown below.\n",
    "\n"
   ]
  },
  {
   "cell_type": "code",
   "execution_count": 2,
   "id": "e116ffb6-b910-4a27-bc2d-1635444b9e59",
   "metadata": {
    "tags": []
   },
   "outputs": [],
   "source": [
    "# =============================================================================\n",
    "# Define the File to analyze\n",
    "# can be in different folder, must be explicit for file location or can \n",
    "# use referential convention '../data/filename.xlsx' or 'C:/folders.../filename'\n",
    "# =============================================================================\n",
    "fn = 'Example_PFHpA_1.xlsx'\n",
    "\n",
    "# =============================================================================\n",
    "# READ IN Chemical Property Information\n",
    "# may need to change location of file, depending on where it is stored locally\n",
    "# properties are included in 'fn' from above, but can be separate file as well\n",
    "# =============================================================================\n",
    "chem_data = PSDM.process_input_data(fn, sheet_name='Properties') \n",
    "k_data = pd.read_excel(fn, sheet_name='Kdata',index_col=0) # K & 1/n data\n",
    "\n",
    "# =============================================================================\n",
    "# Read in Input File\n",
    "# Can change location of data_sheet= and column_sheet= to match file naming\n",
    "# =============================================================================\n",
    "raw_data, column_info,\\\n",
    "compounds, carbons, = PSDM.process_input_file(fn,\\\n",
    "                                               data_sheet='data',\\\n",
    "                                               column_sheet='columnSpecs'\n",
    "                                              )"
   ]
  },
  {
   "cell_type": "markdown",
   "id": "2752f733-f320-4f70-9ff8-078aa2530332",
   "metadata": {},
   "source": [
    "# Example 1: Simple, no fouling\n",
    "\n",
    "    chem_type = 'halogenated alkenes' #omitted, see Example 2 for how to use\n",
    "    water_type = 'Organic Free'       #omitted, see Example 2 for how to use\n",
    "    nr = radial collocation points\n",
    "    nz = axial collocation points\n",
    "    k_data = pandas dataframe containing K & 1/n data (ug/g)(L/ug)^(1/n) expected"
   ]
  },
  {
   "cell_type": "code",
   "execution_count": 3,
   "id": "ef1775d7-4b3b-44ea-b2c3-9e263b61f568",
   "metadata": {
    "tags": []
   },
   "outputs": [
    {
     "name": "stdout",
     "output_type": "stream",
     "text": [
      "Trichloroethylene\n",
      "//Mathieu: fouling parameters:\n",
      "a1:  1.0\n",
      "a2:  0.0\n",
      "a3:  0.0\n",
      "a4:  0.0\n",
      "b1:  Trichloroethylene    1.0\n",
      "dtype: float64\n",
      "b2:  Trichloroethylene    0.0\n",
      "dtype: float64\n",
      "rk1:  Trichloroethylene    1.0\n",
      "dtype: float64\n",
      "rk2:  Trichloroethylene    0.0\n",
      "dtype: float64\n",
      "rk3:  Trichloroethylene    0.0\n",
      "dtype: float64\n",
      "rk4:  Trichloroethylene    0.0\n",
      "dtype: float64\n",
      "//Mathieu: k_mult_pd =  [1. 1. 1. 1. 1. 1. 1. 1. 1. 1. 1. 1. 1. 1. 1. 1. 1. 1. 1. 1. 1. 1. 1. 1.\n",
      " 1. 1. 1. 1. 1. 1. 1. 1. 1. 1. 1. 1. 1. 1. 1. 1. 1. 1. 1. 1. 1. 1. 1. 1.\n",
      " 1. 1. 1. 1. 1. 1. 1. 1. 1. 1. 1. 1. 1. 1. 1. 1. 1. 1. 1. 1. 1. 1. 1. 1.\n",
      " 1. 1. 1. 1. 1. 1. 1. 1. 1. 1. 1. 1. 1. 1. 1. 1. 1. 1. 1. 1. 1. 1. 1. 1.\n",
      " 1. 1. 1. 1. 1. 1. 1. 1. 1. 1. 1. 1. 1. 1. 1. 1. 1. 1. 1. 1. 1. 1. 1. 1.\n",
      " 1. 1. 1. 1. 1. 1. 1. 1. 1. 1. 1. 1. 1. 1. 1. 1. 1. 1. 1. 1. 1. 1. 1. 1.\n",
      " 1. 1. 1. 1. 1. 1. 1. 1. 1. 1. 1. 1. 1. 1. 1. 1. 1. 1. 1. 1. 1. 1. 1. 1.\n",
      " 1. 1. 1. 1. 1. 1. 1. 1. 1. 1. 1. 1. 1. 1. 1. 1. 1. 1. 1. 1. 1. 1. 1. 1.\n",
      " 1. 1. 1. 1. 1. 1. 1. 1. 1. 1. 1. 1. 1. 1. 1. 1. 1. 1. 1. 1. 1. 1. 1. 1.\n",
      " 1. 1. 1. 1. 1. 1. 1. 1. 1. 1. 1. 1. 1. 1. 1. 1. 1. 1. 1. 1. 1. 1. 1. 1.\n",
      " 1. 1. 1. 1. 1. 1. 1. 1. 1. 1. 1. 1. 1. 1. 1. 1. 1. 1. 1. 1. 1. 1. 1. 1.\n",
      " 1. 1. 1. 1. 1. 1. 1. 1. 1. 1. 1. 1. 1. 1. 1. 1. 1. 1. 1. 1. 1. 1. 1. 1.\n",
      " 1. 1. 1. 1. 1. 1. 1. 1. 1. 1. 1. 1. 1. 1. 1. 1. 1. 1. 1. 1. 1. 1. 1. 1.\n",
      " 1. 1. 1. 1. 1. 1. 1. 1. 1. 1. 1. 1. 1. 1. 1. 1. 1. 1. 1. 1. 1. 1. 1. 1.\n",
      " 1. 1. 1. 1. 1. 1. 1. 1. 1. 1. 1. 1. 1. 1. 1. 1. 1. 1. 1. 1. 1. 1. 1. 1.\n",
      " 1. 1. 1. 1. 1. 1. 1. 1. 1. 1. 1. 1. 1. 1. 1. 1. 1. 1. 1. 1. 1. 1. 1. 1.\n",
      " 1. 1. 1. 1. 1. 1. 1. 1. 1. 1. 1. 1. 1. 1. 1. 1. 1. 1. 1. 1. 1. 1. 1. 1.\n",
      " 1. 1. 1. 1. 1. 1. 1. 1. 1. 1. 1. 1. 1. 1. 1. 1. 1. 1. 1. 1. 1. 1. 1. 1.\n",
      " 1. 1. 1. 1. 1. 1. 1. 1. 1. 1. 1. 1. 1. 1. 1. 1. 1. 1. 1. 1. 1. 1. 1. 1.\n",
      " 1. 1. 1. 1. 1. 1. 1. 1. 1. 1. 1. 1. 1. 1. 1. 1. 1. 1. 1. 1. 1. 1. 1. 1.\n",
      " 1. 1. 1. 1. 1. 1. 1. 1. 1. 1. 1. 1. 1. 1. 1. 1. 1. 1. 1. 1.]\n",
      "//Mathieu: data_store: \n",
      "{'Trichloroethylene': <scipy.interpolate._interpolate.interp1d object at 0x0000018E7B22B520>}\n",
      "Trichloroethylene : <scipy.interpolate._interpolate.interp1d object at 0x0000018E7B22B520>\n",
      "EBCT:  9.4  min\n"
     ]
    },
    {
     "data": {
      "image/png": "[encoded data removed]",
      "text/plain": [
       "<Figure size 640x480 with 1 Axes>"
      ]
     },
     "metadata": {},
     "output_type": "display_data"
    }
   ],
   "source": [
    "for comp in compounds:\n",
    "    print(comp)\n",
    "    \n",
    "    # SETTING UP PSDM simulation column\n",
    "    column = PSDM.PSDM(column_info[carbons[0]], \n",
    "                   chem_data, \n",
    "                   raw_data,\n",
    "                   nr=8,\n",
    "                   nz=12, \n",
    "                   k_data=k_data,\\\n",
    "                   optimize=False\n",
    "                   )\n",
    "    \n",
    "    print('EBCT: ', np.round(column.ebct, 2), ' min') \n",
    "    column.test_range = np.array([k_data[comp]['K']]) \n",
    "    column.xn_range = np.array([k_data[comp]['1/n']])\n",
    "    \n",
    "    # RUNNING the simulation\n",
    "    # only results is used in this example\n",
    "    _compound, _k, _xn, _ssqs, results = column.run_psdm_kfit(comp)\n",
    "    \n",
    "    ### plotting results \n",
    "    # units are converted from ug/L to mg/L \n",
    "    plt.plot(results.index, \n",
    "             results.values/1000., \n",
    "             label='PSDM')\n",
    "    (raw_data[column.influent][comp]/1000.).plot.line(label='influent',linestyle=':')\n",
    "    \n",
    "    # Plot Labels, etc.\n",
    "    plt.legend()\n",
    "    plt.title(comp+'\\nK: '+repr(round(_k,2))+' ($\\mu$g/g)(L/$\\mu$g)$^{1/n}$ - 1/n: '+repr(round(_xn,3)))\n",
    "    plt.xlabel(column_info[carbons[0]]['time'])\n",
    "    plt.ylabel('Concentration - mg/L (ppm)')\n",
    "    plt.savefig(comp+'_'+carbons[0]+'_example1.png', dpi=300)\n",
    "    \n",
    "    \n",
    "    tab2 = 'model-'+comp\n",
    "    ## Set up file to write output\n",
    "    with pd.ExcelWriter('Example_TCE_' + carbons[0] + '_example1.xlsx') as writer:\n",
    "        results.to_excel(writer, sheet_name=tab2)\n",
    "\n"
   ]
  },
  {
   "cell_type": "code",
   "execution_count": 4,
   "id": "e779d2fd-c1d6-4f63-942d-7fe72cbda32f",
   "metadata": {
    "tags": []
   },
   "outputs": [
    {
     "data": {
      "text/plain": [
       "Trichloroethylene    3.229310e-09\n",
       "dtype: float64"
      ]
     },
     "execution_count": 4,
     "metadata": {},
     "output_type": "execute_result"
    }
   ],
   "source": [
    "column.psdm_Ds"
   ]
  },
  {
   "cell_type": "markdown",
   "id": "9828b4db-ee04-4855-b9ff-88c094c3d4bc",
   "metadata": {},
   "source": [
    "## Example 1a - Changing influent concentration programmatically  & Changing EBCT"
   ]
  },
  {
   "cell_type": "code",
   "execution_count": 4,
   "id": "f241a3ea-c70d-4dcf-9562-962d3c9a1f61",
   "metadata": {
    "tags": []
   },
   "outputs": [],
   "source": [
    "raw_data2 = raw_data.copy()              # create a copy of the raw data dataframe \n",
    "column_info2 = column_info[carbons[0]].copy()   # makes copy to change flowrate\n",
    "## change the concentration associated with the 'influent' column\n",
    "raw_data2[column.influent] = 5000        # 5ppm, rather than 50 ppm in original file\n",
    "\n"
   ]
  },
  {
   "cell_type": "code",
   "execution_count": 5,
   "id": "ba2d9404-0a87-4543-a860-f3fb0a177082",
   "metadata": {
    "tags": []
   },
   "outputs": [
    {
     "name": "stdout",
     "output_type": "stream",
     "text": [
      "Trichloroethylene\n",
      "EBCT:  9.4  min\n",
      "EBCT:  6.27  min\n"
     ]
    },
    {
     "data": {
      "image/png": "[encoded data removed]",
      "text/plain": [
       "<Figure size 640x480 with 1 Axes>"
      ]
     },
     "metadata": {},
     "output_type": "display_data"
    }
   ],
   "source": [
    "for comp in compounds:\n",
    "    print(comp)\n",
    "    \n",
    "    # SETTING UP PSDM simulation column\n",
    "    column = PSDM.PSDM(column_info[carbons[0]], \n",
    "                   chem_data, \n",
    "                   raw_data2,\n",
    "                   nr=8,\n",
    "                   nz=12, \n",
    "                   k_data=k_data,\\\n",
    "                   optimize=False\n",
    "                   )\n",
    "    \n",
    "    print('EBCT: ', np.round(column.ebct, 2), ' min') \n",
    "    column.test_range = np.array([k_data[comp]['K']])\n",
    "    column.xn_range = np.array([k_data[comp]['1/n']])\n",
    "    \n",
    "    # RUNNING the simulation\n",
    "    #only results is used in this example\n",
    "    _compound, _k, _xn, _ssqs, results = column.run_psdm_kfit(comp)\n",
    "    \n",
    "    # Change Flowrate, which changes EBCT, and rerun simulation\n",
    "    column_info2['flrt'] = column_info[carbons[0]]['flrt'] * 1.5 # internal units are mL/min, this just multiplies by 1.5\n",
    "    column2 = PSDM.PSDM(column_info2, \n",
    "                   chem_data, \n",
    "                   raw_data2,\n",
    "                   nr=8,\n",
    "                   nz=12, \n",
    "                   k_data=k_data,\\\n",
    "                   optimize=False\n",
    "                   )\n",
    "    \n",
    "    print('EBCT: ', np.round(column2.ebct, 2), ' min') \n",
    "    column2.test_range = np.array([k_data[comp]['K']])\n",
    "    column2.xn_range = np.array([k_data[comp]['1/n']])\n",
    "    _compound, _k, _xn, _ssqs, results2 = column2.run_psdm_kfit(comp)\n",
    "\n",
    "    \n",
    "    ### Plotting results \n",
    "    # plot results for 1st EBCT\n",
    "    plt.plot(results.index, \n",
    "             results.values/1000., \n",
    "             label='EBCT: '+repr(np.round(column.ebct,2)))\n",
    "    # plot results for 2nd EBCT\n",
    "    plt.plot(results2.index, \n",
    "             results2.values/1000., \n",
    "             label='EBCT: '+repr(np.round(column2.ebct,2)))\n",
    "    (raw_data2[column.influent][comp]/1000.).plot.line(label='influent',linestyle=':')\n",
    "    \n",
    "    # Plot Labels, etc.\n",
    "    plt.legend()\n",
    "    plt.title(comp+'\\nK: '+repr(round(_k,2))+' ($\\mu$g/g)(L/$\\mu$g)$^{1/n}$ - 1/n: '+repr(round(_xn,3)))\n",
    "    plt.xlabel(column_info[carbons[0]]['time'])\n",
    "    plt.ylabel('Concentration - mg/L (ppm)')\n",
    "    plt.savefig(comp+'_'+carbons[0]+'_example1a.png', dpi=300)\n",
    "    \n",
    "    tab2 = 'model-'+comp\n",
    "    with pd.ExcelWriter('Example_TCE_' + carbons[0] + '_example1a.xlsx') as writer:\n",
    "        results.to_excel(writer, sheet_name=tab2)\n",
    "    \n"
   ]
  },
  {
   "cell_type": "markdown",
   "id": "da8c27dc-a6a0-4580-b524-93b340db3efd",
   "metadata": {},
   "source": [
    "\n",
    "# Example 2 - Variable influent\n",
    "\n",
    "Variable influent data stored in \"data_variable\" sheet. Must reload info.\n",
    "k_data didn't change, so will be reused from Example 1\n"
   ]
  },
  {
   "cell_type": "code",
   "execution_count": 3,
   "id": "c2ba1f5b-b5ae-4e16-b74b-a8ebb5b2bca9",
   "metadata": {
    "tags": []
   },
   "outputs": [],
   "source": [
    "raw_data, column_info,\\\n",
    "compounds, carbons, = PSDM.process_input_file(fn,\\\n",
    "                                               data_sheet='data_variable',\\\n",
    "                                               column_sheet='columnSpecs'\n",
    "                                              )\n",
    "## User can look at raw_data to see new variable influent, or \n",
    "## see \"data_variable\" sheet\n"
   ]
  },
  {
   "cell_type": "code",
   "execution_count": 4,
   "id": "dfab5345-de32-418c-abc6-279cc30480c4",
   "metadata": {
    "tags": []
   },
   "outputs": [
    {
     "name": "stdout",
     "output_type": "stream",
     "text": [
      "PFHpA\n",
      "//Mathieu: fouling parameters:\n",
      "a1:  1.0\n",
      "a2:  0.0\n",
      "a3:  0.0\n",
      "a4:  0.0\n",
      "b1:  PFHpA    1.0\n",
      "dtype: float64\n",
      "b2:  PFHpA    0.0\n",
      "dtype: float64\n",
      "rk1:  PFHpA    1.0\n",
      "dtype: float64\n",
      "rk2:  PFHpA    0.0\n",
      "dtype: float64\n",
      "rk3:  PFHpA    0.0\n",
      "dtype: float64\n",
      "rk4:  PFHpA    0.0\n",
      "dtype: float64\n",
      "//Mathieu: k_mult_pd =  [1. 1. 1. 1. 1. 1. 1. 1. 1. 1. 1. 1. 1. 1. 1. 1. 1. 1. 1. 1. 1. 1. 1. 1.\n",
      " 1. 1. 1. 1. 1. 1. 1. 1. 1. 1. 1. 1. 1. 1. 1. 1. 1. 1. 1. 1. 1. 1. 1. 1.\n",
      " 1. 1. 1. 1. 1. 1. 1. 1. 1. 1. 1. 1. 1. 1. 1. 1. 1. 1. 1. 1. 1. 1. 1. 1.\n",
      " 1. 1. 1. 1. 1. 1. 1. 1. 1. 1. 1. 1. 1. 1. 1. 1. 1. 1. 1. 1. 1. 1. 1. 1.\n",
      " 1. 1. 1. 1. 1. 1. 1. 1. 1. 1. 1. 1. 1. 1. 1. 1. 1. 1. 1. 1. 1. 1. 1. 1.\n",
      " 1. 1. 1. 1. 1. 1. 1. 1. 1. 1. 1. 1. 1. 1. 1. 1. 1. 1. 1. 1. 1. 1. 1. 1.\n",
      " 1. 1. 1. 1. 1. 1. 1. 1. 1. 1. 1. 1. 1. 1. 1. 1. 1. 1. 1. 1. 1. 1. 1. 1.\n",
      " 1. 1. 1. 1. 1. 1. 1. 1. 1. 1. 1. 1. 1. 1. 1. 1. 1. 1. 1. 1. 1. 1. 1. 1.\n",
      " 1. 1. 1. 1. 1. 1. 1. 1. 1. 1. 1. 1. 1. 1. 1. 1. 1. 1. 1. 1. 1. 1. 1. 1.\n",
      " 1. 1. 1. 1. 1. 1. 1. 1. 1. 1. 1. 1. 1. 1. 1. 1. 1. 1. 1. 1. 1. 1. 1. 1.\n",
      " 1. 1. 1. 1. 1. 1. 1. 1. 1. 1. 1. 1. 1. 1. 1. 1. 1. 1. 1. 1. 1. 1. 1. 1.\n",
      " 1. 1. 1. 1. 1. 1. 1. 1. 1. 1. 1. 1. 1. 1. 1. 1. 1. 1. 1. 1. 1. 1. 1. 1.\n",
      " 1. 1. 1. 1. 1. 1. 1. 1. 1. 1. 1. 1. 1. 1. 1. 1. 1. 1. 1. 1. 1. 1. 1. 1.\n",
      " 1. 1. 1. 1. 1. 1. 1. 1. 1. 1. 1. 1. 1. 1. 1. 1. 1. 1. 1. 1. 1. 1. 1. 1.\n",
      " 1. 1. 1. 1. 1. 1. 1. 1. 1. 1. 1. 1. 1. 1. 1. 1. 1. 1. 1. 1. 1. 1. 1. 1.\n",
      " 1. 1. 1. 1. 1. 1. 1. 1. 1. 1. 1. 1. 1. 1. 1. 1. 1. 1. 1. 1. 1. 1. 1. 1.\n",
      " 1. 1. 1. 1. 1. 1. 1. 1. 1. 1. 1. 1. 1. 1. 1. 1. 1. 1. 1. 1. 1. 1. 1. 1.\n",
      " 1. 1. 1. 1. 1. 1. 1. 1. 1. 1. 1. 1. 1. 1. 1. 1. 1. 1. 1. 1. 1. 1. 1. 1.\n",
      " 1. 1. 1. 1. 1. 1. 1. 1. 1. 1. 1. 1. 1. 1. 1. 1. 1. 1. 1. 1. 1. 1. 1. 1.\n",
      " 1. 1. 1. 1. 1. 1. 1. 1. 1. 1. 1. 1. 1. 1. 1. 1. 1. 1. 1. 1. 1. 1. 1. 1.\n",
      " 1. 1. 1. 1. 1. 1. 1. 1. 1. 1. 1. 1. 1. 1. 1. 1. 1. 1. 1. 1.]\n",
      "//Mathieu: data_store: \n",
      "{'PFHpA': <scipy.interpolate._interpolate.interp1d object at 0x0000015063682E40>}\n",
      "EBCT:  9.88  min\n",
      "//Mathieu: fouling parameters:\n",
      "a1:  0.35\n",
      "a2:  -6.15e-08\n",
      "a3:  0.65\n",
      "a4:  -8.93e-05\n",
      "b1:  PFHpA    0.44\n",
      "dtype: float64\n",
      "b2:  PFHpA    0.36\n",
      "dtype: float64\n",
      "rk1:  PFHpA    0.514\n",
      "dtype: float64\n",
      "rk2:  PFHpA   -2.706000e-08\n",
      "dtype: float64\n",
      "rk3:  PFHpA    0.286\n",
      "dtype: float64\n",
      "rk4:  PFHpA   -0.000039\n",
      "dtype: float64\n",
      "//Mathieu: k_mult_pd =  [0.8        0.74181435 0.69540289 0.65837664 0.62883134 0.6052491\n",
      " 0.58642001 0.57137966 0.55935931 0.54974621 0.54205192 0.53588712\n",
      " 0.53094146 0.52696759 0.52376834 0.52118652 0.51909687 0.51739952\n",
      " 0.51601487 0.51487948 0.51394277 0.51316444 0.51251233 0.51196086\n",
      " 0.51148958 0.51108225 0.51072587 0.51041011 0.51012673 0.50986916\n",
      " 0.50963216 0.50941156 0.50920404 0.50900693 0.50881812 0.50863594\n",
      " 0.50845903 0.50828633 0.50811698 0.5079503  0.50778576 0.50762291\n",
      " 0.50746141 0.507301   0.50714144 0.50698257 0.50682425 0.50666636\n",
      " 0.50650882 0.50635155 0.50619451 0.50603764 0.50588091 0.50572429\n",
      " 0.50556776 0.50541131 0.50525491 0.50509855 0.50494223 0.50478594\n",
      " 0.50462968 0.50447343 0.50431719 0.50416097 0.50400475 0.50384855\n",
      " 0.50369235 0.50353615 0.50337996 0.50322377 0.50306758 0.50291139\n",
      " 0.50275521 0.50259903 0.50244285 0.50228667 0.50213048 0.5019743\n",
      " 0.50181813 0.50166195 0.50150577 0.50134959 0.50119341 0.50103723\n",
      " 0.50088105 0.50072487 0.5005687  0.50041252 0.50025634 0.50010016\n",
      " 0.49994398 0.49978781 0.49963163 0.49947545 0.49931927 0.49916309\n",
      " 0.49900692 0.49885074 0.49869456 0.49853838 0.4983822  0.49822603\n",
      " 0.49806985 0.49791367 0.49775749 0.49760131 0.49744514 0.49728896\n",
      " 0.49713278 0.4969766  0.49682042 0.49666425 0.49650807 0.49635189\n",
      " 0.49619571 0.49603954 0.49588336 0.49572718 0.495571   0.49541482\n",
      " 0.49525865 0.49510247 0.49494629 0.49479011 0.49463393 0.49447776\n",
      " 0.49432158 0.4941654  0.49400922 0.49385304 0.49369687 0.49354069\n",
      " 0.49338451 0.49322833 0.49307215 0.49291598 0.4927598  0.49260362\n",
      " 0.49244744 0.49229126 0.49213509 0.49197891 0.49182273 0.49166655\n",
      " 0.49151037 0.4913542  0.49119802 0.49104184 0.49088566 0.49072948\n",
      " 0.49057331 0.49041713 0.49026095 0.49010477 0.48994859 0.48979242\n",
      " 0.48963624 0.48948006 0.48932388 0.48916771 0.48901153 0.48885535\n",
      " 0.48869917 0.48854299 0.48838682 0.48823064 0.48807446 0.48791828\n",
      " 0.4877621  0.48760593 0.48744975 0.48729357 0.48713739 0.48698121\n",
      " 0.48682504 0.48666886 0.48651268 0.4863565  0.48620032 0.48604415\n",
      " 0.48588797 0.48573179 0.48557561 0.48541943 0.48526326 0.48510708\n",
      " 0.4849509  0.48479472 0.48463854 0.48448237 0.48432619 0.48417001\n",
      " 0.48401383 0.48385765 0.48370148 0.4835453  0.48338912 0.48323294\n",
      " 0.48307676 0.48292059 0.48276441 0.48260823 0.48245205 0.48229587\n",
      " 0.4821397  0.48198352 0.48182734 0.48167116 0.48151499 0.48135881\n",
      " 0.48120263 0.48104645 0.48089027 0.4807341  0.48057792 0.48042174\n",
      " 0.48026556 0.48010938 0.47995321 0.47979703 0.47964085 0.47948467\n",
      " 0.47932849 0.47917232 0.47901614 0.47885996 0.47870378 0.4785476\n",
      " 0.47839143 0.47823525 0.47807907 0.47792289 0.47776671 0.47761054\n",
      " 0.47745436 0.47729818 0.477142   0.47698582 0.47682965 0.47667347\n",
      " 0.47651729 0.47636111 0.47620493 0.47604876 0.47589258 0.4757364\n",
      " 0.47558022 0.47542404 0.47526787 0.47511169 0.47495551 0.47479933\n",
      " 0.47464316 0.47448698 0.4743308  0.47417462 0.47401844 0.47386227\n",
      " 0.47370609 0.47354991 0.47339373 0.47323755 0.47308138 0.4729252\n",
      " 0.47276902 0.47261284 0.47245666 0.47230049 0.47214431 0.47198813\n",
      " 0.47183195 0.47167577 0.4715196  0.47136342 0.47120724 0.47105106\n",
      " 0.47089488 0.47073871 0.47058253 0.47042635 0.47027017 0.47011399\n",
      " 0.46995782 0.46980164 0.46964546 0.46948928 0.4693331  0.46917693\n",
      " 0.46902075 0.46886457 0.46870839 0.46855221 0.46839604 0.46823986\n",
      " 0.46808368 0.4679275  0.46777133 0.46761515 0.46745897 0.46730279\n",
      " 0.46714661 0.46699044 0.46683426 0.46667808 0.4665219  0.46636572\n",
      " 0.46620955 0.46605337 0.46589719 0.46574101 0.46558483 0.46542866\n",
      " 0.46527248 0.4651163  0.46496012 0.46480394 0.46464777 0.46449159\n",
      " 0.46433541 0.46417923 0.46402305 0.46386688 0.4637107  0.46355452\n",
      " 0.46339834 0.46324216 0.46308599 0.46292981 0.46277363 0.46261745\n",
      " 0.46246127 0.4623051  0.46214892 0.46199274 0.46183656 0.46168038\n",
      " 0.46152421 0.46136803 0.46121185 0.46105567 0.46089949 0.46074332\n",
      " 0.46058714 0.46043096 0.46027478 0.46011861 0.45996243 0.45980625\n",
      " 0.45965007 0.45949389 0.45933772 0.45918154 0.45902536 0.45886918\n",
      " 0.458713   0.45855683 0.45840065 0.45824447 0.45808829 0.45793211\n",
      " 0.45777594 0.45761976 0.45746358 0.4573074  0.45715122 0.45699505\n",
      " 0.45683887 0.45668269 0.45652651 0.45637033 0.45621416 0.45605798\n",
      " 0.4559018  0.45574562 0.45558944 0.45543327 0.45527709 0.45512091\n",
      " 0.45496473 0.45480855 0.45465238 0.4544962  0.45434002 0.45418384\n",
      " 0.45402766 0.45387149 0.45371531 0.45355913 0.45340295 0.45324678\n",
      " 0.4530906  0.45293442 0.45277824 0.45262206 0.45246589 0.45230971\n",
      " 0.45215353 0.45199735 0.45184117 0.451685   0.45152882 0.45137264\n",
      " 0.45121646 0.45106028 0.45090411 0.45074793 0.45059175 0.45043557\n",
      " 0.45027939 0.45012322 0.44996704 0.44981086 0.44965468 0.4494985\n",
      " 0.44934233 0.44918615 0.44902997 0.44887379 0.44871761 0.44856144\n",
      " 0.44840526 0.44824908 0.4480929  0.44793672 0.44778055 0.44762437\n",
      " 0.44746819 0.44731201 0.44715583 0.44699966 0.44684348 0.4466873\n",
      " 0.44653112 0.44637495 0.44621877 0.44606259 0.44590641 0.44575023\n",
      " 0.44559406 0.44543788 0.4452817  0.44512552 0.44496934 0.44481317\n",
      " 0.44465699 0.44450081 0.44434463 0.44418845 0.44403228 0.4438761\n",
      " 0.44371992 0.44356374 0.44340756 0.44325139 0.44309521 0.44293903\n",
      " 0.44278285 0.44262667 0.4424705  0.44231432 0.44215814 0.44200196\n",
      " 0.44184578 0.44168961 0.44153343 0.44137725 0.44122107 0.44106489\n",
      " 0.44090872 0.44075254 0.44059636 0.44044018 0.440284   0.44012783\n",
      " 0.43997165 0.43981547 0.43965929 0.43950312 0.43934694 0.43919076\n",
      " 0.43903458 0.4388784  0.43872223 0.43856605 0.43840987 0.43825369\n",
      " 0.43809751 0.43794134 0.43778516 0.43762898 0.4374728  0.43731662\n",
      " 0.43716045 0.43700427 0.43684809 0.43669191 0.43653573 0.43637956\n",
      " 0.43622338 0.4360672 ]\n",
      "//Mathieu: data_store: \n",
      "{'PFHpA': <scipy.interpolate._interpolate.interp1d object at 0x0000015066026490>}\n"
     ]
    },
    {
     "data": {
      "image/png": "[encoded data removed]",
      "text/plain": [
       "<Figure size 640x480 with 1 Axes>"
      ]
     },
     "metadata": {},
     "output_type": "display_data"
    }
   ],
   "source": [
    "chem_type = 'PFAS'   #//Mathieu: according to article\n",
    "water_type = 'Rhine' #//Mathieu: according to article\n",
    "#note additional inputs in definition of column, below.\n",
    "\n",
    "for comp in compounds:\n",
    "    print(comp)\n",
    "    \n",
    "    # SETTING UP PSDM simulation column\n",
    "    column = PSDM.PSDM(column_info[carbons[0]], \n",
    "                   chem_data, \n",
    "                   raw_data,\n",
    "                   nr=8,\n",
    "                   nz=12, \n",
    "                   k_data=k_data,\n",
    "                   optimize=False\n",
    "                   )\n",
    "    \n",
    "    print('EBCT: ', round(column.ebct, 2), ' min') \n",
    "    column.test_range = np.array([k_data[comp]['K']])\n",
    "    column.xn_range = np.array([k_data[comp]['1/n']])\n",
    "    \n",
    "    # RUNNING the simulation\n",
    "    #only results is used in this example\n",
    "    _compound, _k, _xn, _ssqs, results = column.run_psdm_kfit(comp)\n",
    "    \n",
    "    column2 = PSDM.PSDM(column_info[carbons[0]], \n",
    "                   chem_data, \n",
    "                   raw_data,\n",
    "                   nr=8,\n",
    "                   nz=12, \n",
    "                   k_data=k_data,\n",
    "                   chem_type=chem_type,\n",
    "                   water_type=water_type,\n",
    "                   optimize=False\n",
    "                   )\n",
    "    \n",
    "    column2.test_range = np.array([k_data[comp]['K']])\n",
    "    column2.xn_range = np.array([k_data[comp]['1/n']])\n",
    "    \n",
    "    # RUNNING the simulation\n",
    "    #only results is used in this example\n",
    "    _compound, _k, _xn, _ssqs, results2 = column2.run_psdm_kfit(comp)\n",
    "    \n",
    "    ### plotting results \n",
    "    # units are converted from ug/L to mg/L \n",
    "    plt.plot(results.index, \n",
    "             results.values/1000., \n",
    "             label='PSDM-no fouling')\n",
    "    plt.plot(results2.index, \n",
    "             results2.values/1000., \n",
    "             label='PSDM-with fouling')\n",
    "    (raw_data[column.influent][comp]/1000.).plot.line(label='influent',linestyle=':')\n",
    "    \n",
    "    # Plot Labels, etc.\n",
    "    plt.legend()\n",
    "    plt.title(comp+'\\nK: '+repr(round(_k,2))+' ($\\mu$g/g)(L/$\\mu$g)$^{1/n}$ - 1/n: '+repr(round(_xn,3)))\n",
    "    plt.xlabel(column_info[carbons[0]]['time'])\n",
    "    plt.ylabel('Concentration - mg/L (ppm)')\n",
    "    plt.savefig(comp+'_'+carbons[0]+'_example2.png', dpi=300)\n",
    "    \n",
    "    tab2 = 'model-'+comp\n",
    "    \n",
    "    with pd.ExcelWriter('Example_TCE_' + carbons[0] + '_example2.xlsx') as writer:\n",
    "        results.to_excel(writer, sheet_name=tab2)\n",
    "\n"
   ]
  },
  {
   "cell_type": "code",
   "execution_count": 8,
   "id": "81752a07-0597-4aa0-b538-c7a5bade1e76",
   "metadata": {
    "tags": []
   },
   "outputs": [
    {
     "data": {
      "text/plain": [
       "(1, 1)"
      ]
     },
     "execution_count": 8,
     "metadata": {},
     "output_type": "execute_result"
    }
   ],
   "source": [
    "column.psdm_teller, column2.psdm_teller"
   ]
  },
  {
   "cell_type": "code",
   "execution_count": 9,
   "id": "add05f14-61cb-4b0c-ae90-d4993305122a",
   "metadata": {
    "tags": []
   },
   "outputs": [
    {
     "data": {
      "text/plain": [
       "('Organic Free', 'Rhine')"
      ]
     },
     "execution_count": 9,
     "metadata": {},
     "output_type": "execute_result"
    }
   ],
   "source": [
    "column.water_type, column2.water_type"
   ]
  },
  {
   "cell_type": "markdown",
   "id": "8ef08dd0-953c-47d2-9877-5a6829b65ecf",
   "metadata": {},
   "source": [
    "# Advanced Example\n",
    "\n",
    "Demonstrating Fitting Capabilities.\n",
    "\n",
    "Reloading all information for clarity.\n",
    "\n",
    "Using \"data_optimize\" sheet, which contains time series of effluent breakthrough."
   ]
  },
  {
   "cell_type": "code",
   "execution_count": 3,
   "id": "41e875a3-ca48-4cae-9b0f-3211fb97aafc",
   "metadata": {
    "tags": []
   },
   "outputs": [],
   "source": [
    "#reset files, just in case\n",
    "chem_data = PSDM.process_input_data(fn, sheet_name='Properties') \n",
    "k_data = pd.read_excel(fn, sheet_name='Kdata',index_col=0) # K & 1/n data\n",
    "\n",
    "\n",
    "raw_data, column_info,\\\n",
    "compounds, carbons, = PSDM.process_input_file(fn,\\\n",
    "                                               data_sheet='data_optimize',\\\n",
    "                                               column_sheet='columnSpecs'\n",
    "                                              )\n",
    "## note data_sheet is now 'data_optimize'\n",
    "\n",
    "chem_type = 'PFAS'\n",
    "water_type = 'Rhine'"
   ]
  },
  {
   "cell_type": "code",
   "execution_count": 4,
   "id": "df2da65a-b0ee-44e9-a28a-211823f59fca",
   "metadata": {
    "tags": []
   },
   "outputs": [
    {
     "name": "stdout",
     "output_type": "stream",
     "text": [
      "PFHpA\n",
      "//Mathieu: fouling parameters:\n",
      "a1:  0.35\n",
      "a2:  -6.15e-08\n",
      "a3:  0.65\n",
      "a4:  -8.93e-05\n",
      "b1:  PFHpA    0.43565\n",
      "dtype: float64\n",
      "b2:  PFHpA    0.360309\n",
      "dtype: float64\n",
      "rk1:  PFHpA    0.512787\n",
      "dtype: float64\n",
      "rk2:  PFHpA   -2.679248e-08\n",
      "dtype: float64\n",
      "rk3:  PFHpA    0.283173\n",
      "dtype: float64\n",
      "rk4:  PFHpA   -0.000039\n",
      "dtype: float64\n",
      "//Mathieu: k_mult_pd =  [0.79595906 0.73885526 0.69320457 0.65670365 0.62751237 0.60416069\n",
      " 0.58547419 0.57051466 0.55853256 0.5489291  0.5412259  0.5350408\n",
      " 0.5300685  0.52606508 0.5228357  0.52022468 0.51810767 0.51638532\n",
      " 0.51497825 0.51382306 0.51286909 0.51207588 0.51141109 0.5108489\n",
      " 0.51036868 0.50995393 0.5095915  0.50927086 0.5089836  0.50872301\n",
      " 0.50848374 0.50826148 0.50805283 0.50785504 0.50766592 0.50748375\n",
      " 0.50730711 0.5071349  0.50696622 0.50680036 0.50663677 0.50647497\n",
      " 0.50631462 0.50615542 0.50599713 0.50583958 0.50568262 0.50552612\n",
      " 0.50537    0.50521418 0.50505859 0.5049032  0.50474796 0.50459284\n",
      " 0.50443782 0.50428288 0.504128   0.50397317 0.50381838 0.50366362\n",
      " 0.50350888 0.50335417 0.50319947 0.50304479 0.50289011 0.50273544\n",
      " 0.50258078 0.50242613 0.50227148 0.50211683 0.50196219 0.50180754\n",
      " 0.5016529  0.50149826 0.50134363 0.50118899 0.50103435 0.50087972\n",
      " 0.50072508 0.50057045 0.50041581 0.50026118 0.50010654 0.49995191\n",
      " 0.49979727 0.49964264 0.499488   0.49933337 0.49917873 0.4990241\n",
      " 0.49886947 0.49871483 0.4985602  0.49840556 0.49825093 0.4980963\n",
      " 0.49794166 0.49778703 0.49763239 0.49747776 0.49732313 0.49716849\n",
      " 0.49701386 0.49685922 0.49670459 0.49654996 0.49639532 0.49624069\n",
      " 0.49608606 0.49593142 0.49577679 0.49562215 0.49546752 0.49531289\n",
      " 0.49515825 0.49500362 0.49484898 0.49469435 0.49453972 0.49438508\n",
      " 0.49423045 0.49407581 0.49392118 0.49376655 0.49361191 0.49345728\n",
      " 0.49330264 0.49314801 0.49299338 0.49283874 0.49268411 0.49252947\n",
      " 0.49237484 0.49222021 0.49206557 0.49191094 0.4917563  0.49160167\n",
      " 0.49144704 0.4912924  0.49113777 0.49098313 0.4908285  0.49067387\n",
      " 0.49051923 0.4903646  0.49020997 0.49005533 0.4899007  0.48974606\n",
      " 0.48959143 0.4894368  0.48928216 0.48912753 0.48897289 0.48881826\n",
      " 0.48866363 0.48850899 0.48835436 0.48819972 0.48804509 0.48789046\n",
      " 0.48773582 0.48758119 0.48742655 0.48727192 0.48711729 0.48696265\n",
      " 0.48680802 0.48665338 0.48649875 0.48634412 0.48618948 0.48603485\n",
      " 0.48588021 0.48572558 0.48557095 0.48541631 0.48526168 0.48510704\n",
      " 0.48495241 0.48479778 0.48464314 0.48448851 0.48433388 0.48417924\n",
      " 0.48402461 0.48386997 0.48371534 0.48356071 0.48340607 0.48325144\n",
      " 0.4830968  0.48294217 0.48278754 0.4826329  0.48247827 0.48232363\n",
      " 0.482169   0.48201437 0.48185973 0.4817051  0.48155046 0.48139583\n",
      " 0.4812412  0.48108656 0.48093193 0.48077729 0.48062266 0.48046803\n",
      " 0.48031339 0.48015876 0.48000412 0.47984949 0.47969486 0.47954022\n",
      " 0.47938559 0.47923096 0.47907632 0.47892169 0.47876705 0.47861242\n",
      " 0.47845779 0.47830315 0.47814852 0.47799388 0.47783925 0.47768462\n",
      " 0.47752998 0.47737535 0.47722071 0.47706608 0.47691145 0.47675681\n",
      " 0.47660218 0.47644754 0.47629291 0.47613828 0.47598364 0.47582901\n",
      " 0.47567437 0.47551974 0.47536511 0.47521047 0.47505584 0.4749012\n",
      " 0.47474657 0.47459194 0.4744373  0.47428267 0.47412803 0.4739734\n",
      " 0.47381877 0.47366413 0.4735095  0.47335487 0.47320023 0.4730456\n",
      " 0.47289096 0.47273633 0.4725817  0.47242706 0.47227243 0.47211779\n",
      " 0.47196316 0.47180853 0.47165389 0.47149926 0.47134462 0.47118999\n",
      " 0.47103536 0.47088072 0.47072609 0.47057145 0.47041682 0.47026219\n",
      " 0.47010755 0.46995292 0.46979828 0.46964365 0.46948902 0.46933438\n",
      " 0.46917975 0.46902511 0.46887048 0.46871585 0.46856121 0.46840658\n",
      " 0.46825194 0.46809731 0.46794268 0.46778804 0.46763341 0.46747878\n",
      " 0.46732414 0.46716951 0.46701487 0.46686024 0.46670561 0.46655097\n",
      " 0.46639634 0.4662417  0.46608707 0.46593244 0.4657778  0.46562317\n",
      " 0.46546853 0.4653139  0.46515927 0.46500463 0.46485    0.46469536\n",
      " 0.46454073 0.4643861  0.46423146 0.46407683 0.46392219 0.46376756\n",
      " 0.46361293 0.46345829 0.46330366 0.46314902 0.46299439 0.46283976\n",
      " 0.46268512 0.46253049 0.46237586 0.46222122 0.46206659 0.46191195\n",
      " 0.46175732 0.46160269 0.46144805 0.46129342 0.46113878 0.46098415\n",
      " 0.46082952 0.46067488 0.46052025 0.46036561 0.46021098 0.46005635\n",
      " 0.45990171 0.45974708 0.45959244 0.45943781 0.45928318 0.45912854\n",
      " 0.45897391 0.45881927 0.45866464 0.45851001 0.45835537 0.45820074\n",
      " 0.4580461  0.45789147 0.45773684 0.4575822  0.45742757 0.45727293\n",
      " 0.4571183  0.45696367 0.45680903 0.4566544  0.45649977 0.45634513\n",
      " 0.4561905  0.45603586 0.45588123 0.4557266  0.45557196 0.45541733\n",
      " 0.45526269 0.45510806 0.45495343 0.45479879 0.45464416 0.45448952\n",
      " 0.45433489 0.45418026 0.45402562 0.45387099 0.45371635 0.45356172\n",
      " 0.45340709 0.45325245 0.45309782 0.45294318 0.45278855 0.45263392\n",
      " 0.45247928 0.45232465 0.45217001 0.45201538 0.45186075 0.45170611\n",
      " 0.45155148 0.45139684 0.45124221 0.45108758 0.45093294 0.45077831\n",
      " 0.45062368 0.45046904 0.45031441 0.45015977 0.45000514 0.44985051\n",
      " 0.44969587 0.44954124 0.4493866  0.44923197 0.44907734 0.4489227\n",
      " 0.44876807 0.44861343 0.4484588  0.44830417 0.44814953 0.4479949\n",
      " 0.44784026 0.44768563 0.447531   0.44737636 0.44722173 0.44706709\n",
      " 0.44691246 0.44675783 0.44660319 0.44644856 0.44629392 0.44613929\n",
      " 0.44598466 0.44583002 0.44567539 0.44552075 0.44536612 0.44521149\n",
      " 0.44505685 0.44490222 0.44474759 0.44459295 0.44443832 0.44428368\n",
      " 0.44412905 0.44397442 0.44381978 0.44366515 0.44351051 0.44335588\n",
      " 0.44320125 0.44304661 0.44289198 0.44273734 0.44258271 0.44242808\n",
      " 0.44227344 0.44211881 0.44196417 0.44180954 0.44165491 0.44150027\n",
      " 0.44134564 0.441191   0.44103637 0.44088174 0.4407271  0.44057247\n",
      " 0.44041783 0.4402632  0.44010857 0.43995393 0.4397993  0.43964467\n",
      " 0.43949003 0.4393354  0.43918076 0.43902613 0.4388715  0.43871686\n",
      " 0.43856223 0.43840759 0.43825296 0.43809833 0.43794369 0.43778906\n",
      " 0.43763442 0.43747979 0.43732516 0.43717052 0.43701589 0.43686125\n",
      " 0.43670662 0.43655199 0.43639735 0.43624272 0.43608808 0.43593345\n",
      " 0.43577882 0.43562418]\n",
      "          PFHpA\n",
      "K      2.387310\n",
      "1/n    0.450000\n",
      "q      0.438922\n",
      "brk   91.000000\n",
      "AveC   0.023201\n",
      "Running - PFHpA\n",
      "          PFHpA\n",
      "K      6.294245\n",
      "1/n    0.580000\n",
      "q      0.438922\n",
      "brk   91.000000\n",
      "AveC   0.023201\n"
     ]
    },
    {
     "data": {
      "image/png": "[encoded data removed]",
      "text/plain": [
       "<Figure size 640x480 with 1 Axes>"
      ]
     },
     "metadata": {},
     "output_type": "display_data"
    }
   ],
   "source": [
    "## This step can take a few minutes\n",
    "for comp in compounds:\n",
    "    print(comp)\n",
    "    column = PSDM.PSDM(column_info[carbons[0]], \n",
    "                   chem_data, \n",
    "                   raw_data,\n",
    "                   nr=8,\n",
    "                   nz=12, \n",
    "                   #k_data=k_data,\n",
    "                   chem_type=chem_type,\n",
    "                   water_type=water_type,\n",
    "                   optimize=False\n",
    "                   )\n",
    "    \n",
    "    print(column.k_data)\n",
    "\n",
    "    column.test_range = np.array([k_data[comp]['K']])\n",
    "    column.xn_range = np.array([k_data[comp]['1/n']])\n",
    "    \n",
    "    # RUNNING the simulation\n",
    "    # only results is used in this example\n",
    "    _compound, _k, _xn, _ssqs, results = column.run_psdm_kfit(comp)\n",
    "    \n",
    "    # print(results['data'][np.linspace(0,175,36)])\n",
    "    \n",
    "    plt.plot(results.index, \n",
    "             results.values/1000,':',\n",
    "             label=f'True Case: K: {k_data[comp][\"K\"]:,.0f}, 1/n: {k_data[comp][\"1/n\"]}'\n",
    "             )\n",
    "    plt.plot(raw_data.index,\n",
    "             raw_data[column_info[carbons[0]]['influentID']][comp].values/1000,\n",
    "             label='influent',ls=':')\n",
    "    plt.plot(raw_data.index,\n",
    "             raw_data[carbons[0]][comp].values/1000.,\n",
    "             label='effluent', marker='o',ls='--')\n",
    "    \n",
    "    \n",
    "    column.xn_range = np.linspace(.3,.75,19) # increment 0.025\n",
    "    # checks +/- 30% of estimated K (pm=30), \n",
    "    # and scans 1/n space in 0.01 step sizes (des_xn=0.01)\n",
    "    column.run_all_smart(pm=30, des_xn=0.01)\n",
    "    \n",
    "    #Best fit was saved back to column.k_data\n",
    "    print(column.k_data)\n",
    "    \n",
    "    _compound, k, xn, _ssqs, results2 = column.run_psdm_kfit(comp)\n",
    "    \n",
    "    plt.plot(results2.index,\n",
    "             results2.values/1000.,\n",
    "             label='Best Fit')\n",
    "    \n",
    "    \n",
    "    # Plot Labels, etc.\n",
    "    plt.legend()\n",
    "    plt.title(f'{comp}\\nK: {k:,.2f} ($\\mu$g/g)(L/$\\mu$g)$^1$$^/$$^n$ - 1/n: {xn:.3}')\n",
    "    plt.xlabel(f'Time ({column_info.loc[\"time\"].values[0]})')\n",
    "    plt.ylabel('Concentration - mg/L (ppm)')\n",
    "    plt.savefig(comp+'_'+carbons[0]+'_example3.png', dpi=300)\n"
   ]
  },
  {
   "cell_type": "code",
   "execution_count": 5,
   "id": "5271bda1-4693-4746-b5e7-34137a6392bf",
   "metadata": {
    "tags": []
   },
   "outputs": [
    {
     "data": {
      "text/plain": [
       "23"
      ]
     },
     "execution_count": 5,
     "metadata": {},
     "output_type": "execute_result"
    }
   ],
   "source": [
    "column.psdm_teller"
   ]
  },
  {
   "cell_type": "code",
   "execution_count": 6,
   "id": "f4140ce5-00b9-4fa5-a41e-be0c37e09dad",
   "metadata": {
    "tags": []
   },
   "outputs": [
    {
     "data": {
      "text/plain": [
       "PFHpA    5.421448e-20\n",
       "dtype: float64"
      ]
     },
     "execution_count": 6,
     "metadata": {},
     "output_type": "execute_result"
    }
   ],
   "source": [
    "column.psdm_Ds"
   ]
  },
  {
   "cell_type": "code",
   "execution_count": 7,
   "id": "b812da81-3015-4d44-b835-198da49960b4",
   "metadata": {
    "tags": []
   },
   "outputs": [
    {
     "data": {
      "text/html": [
       "<div>\n",
       "<style scoped>\n",
       "    .dataframe tbody tr th:only-of-type {\n",
       "        vertical-align: middle;\n",
       "    }\n",
       "\n",
       "    .dataframe tbody tr th {\n",
       "        vertical-align: top;\n",
       "    }\n",
       "\n",
       "    .dataframe thead th {\n",
       "        text-align: right;\n",
       "    }\n",
       "</style>\n",
       "<table border=\"1\" class=\"dataframe\">\n",
       "  <thead>\n",
       "    <tr style=\"text-align: right;\">\n",
       "      <th></th>\n",
       "      <th>PFHpA</th>\n",
       "    </tr>\n",
       "  </thead>\n",
       "  <tbody>\n",
       "    <tr>\n",
       "      <th>kf</th>\n",
       "      <td>0.0</td>\n",
       "    </tr>\n",
       "    <tr>\n",
       "      <th>dp</th>\n",
       "      <td>0.0</td>\n",
       "    </tr>\n",
       "    <tr>\n",
       "      <th>ds</th>\n",
       "      <td>0.0</td>\n",
       "    </tr>\n",
       "  </tbody>\n",
       "</table>\n",
       "</div>"
      ],
      "text/plain": [
       "    PFHpA\n",
       "kf    0.0\n",
       "dp    0.0\n",
       "ds    0.0"
      ]
     },
     "execution_count": 7,
     "metadata": {},
     "output_type": "execute_result"
    }
   ],
   "source": [
    "column.mass_transfer"
   ]
  },
  {
   "cell_type": "code",
   "execution_count": 8,
   "id": "e090b8c4-5c12-4713-aca5-82dd2b10c3ba",
   "metadata": {
    "tags": []
   },
   "outputs": [
    {
     "data": {
      "text/html": [
       "<div>\n",
       "<style scoped>\n",
       "    .dataframe tbody tr th:only-of-type {\n",
       "        vertical-align: middle;\n",
       "    }\n",
       "\n",
       "    .dataframe tbody tr th {\n",
       "        vertical-align: top;\n",
       "    }\n",
       "\n",
       "    .dataframe thead th {\n",
       "        text-align: right;\n",
       "    }\n",
       "</style>\n",
       "<table border=\"1\" class=\"dataframe\">\n",
       "  <thead>\n",
       "    <tr style=\"text-align: right;\">\n",
       "      <th></th>\n",
       "      <th>PFHpA</th>\n",
       "    </tr>\n",
       "  </thead>\n",
       "  <tbody>\n",
       "    <tr>\n",
       "      <th>MW</th>\n",
       "      <td>364.060</td>\n",
       "    </tr>\n",
       "    <tr>\n",
       "      <th>MolarVol</th>\n",
       "      <td>203.158</td>\n",
       "    </tr>\n",
       "    <tr>\n",
       "      <th>BP</th>\n",
       "      <td>175.000</td>\n",
       "    </tr>\n",
       "    <tr>\n",
       "      <th>Density</th>\n",
       "      <td>1.792</td>\n",
       "    </tr>\n",
       "    <tr>\n",
       "      <th>Solubility</th>\n",
       "      <td>0.000</td>\n",
       "    </tr>\n",
       "    <tr>\n",
       "      <th>VaporPress</th>\n",
       "      <td>0.000</td>\n",
       "    </tr>\n",
       "    <tr>\n",
       "      <th>logKow</th>\n",
       "      <td>1.300</td>\n",
       "    </tr>\n",
       "    <tr>\n",
       "      <th>κ2</th>\n",
       "      <td>5.520</td>\n",
       "    </tr>\n",
       "    <tr>\n",
       "      <th>Nam</th>\n",
       "      <td>0.000</td>\n",
       "    </tr>\n",
       "    <tr>\n",
       "      <th>α</th>\n",
       "      <td>13.830</td>\n",
       "    </tr>\n",
       "    <tr>\n",
       "      <th>Dz(hybrid)</th>\n",
       "      <td>0.001</td>\n",
       "    </tr>\n",
       "  </tbody>\n",
       "</table>\n",
       "</div>"
      ],
      "text/plain": [
       "              PFHpA\n",
       "MW          364.060\n",
       "MolarVol    203.158\n",
       "BP          175.000\n",
       "Density       1.792\n",
       "Solubility    0.000\n",
       "VaporPress    0.000\n",
       "logKow        1.300\n",
       "κ2            5.520\n",
       "Nam           0.000\n",
       "α            13.830\n",
       "Dz(hybrid)    0.001"
      ]
     },
     "execution_count": 8,
     "metadata": {},
     "output_type": "execute_result"
    }
   ],
   "source": [
    "chem_data"
   ]
  },
  {
   "cell_type": "code",
   "execution_count": 9,
   "id": "85b3d7fc-3805-4276-a3ef-b46d6f628bbb",
   "metadata": {
    "tags": []
   },
   "outputs": [
    {
     "data": {
      "text/plain": [
       "PFHpA    13.83\n",
       "Name: α, dtype: float64"
      ]
     },
     "execution_count": 9,
     "metadata": {},
     "output_type": "execute_result"
    }
   ],
   "source": [
    "chem_data.loc['α']"
   ]
  },
  {
   "cell_type": "markdown",
   "id": "22893ba3-47fc-444d-b111-40ecb949bfa8",
   "metadata": {},
   "source": [
    "# ALTERNATE OPTIMIZER\n",
    "Depending on selections this can take 1+ hours per compound !!!!\n",
    "\n",
    "Instead of:\n",
    "\n",
    "column.xn_range = np.linspace(.3,.75,19) # increments by 0.025\n",
    "\n",
    "column.run_all_smart(pm=30, des_xn=0.01)\n",
    "            \n",
    "            checks +/- 30% of estimated K (pm=30), \n",
    "            and scans 1/n space in 0.01 step sizes (des_xn=0.01)\n",
    "\n",
    "in previous snippet.\n",
    "\n",
    "Use:\n",
    "\n",
    "column.xn_range = np.linspace(0.3, 0.75, 46) \n",
    "\n",
    "            46 = interval 0.01 (19 is 0.025, for 0.3-0.75)\n",
    "            \n",
    "column.test_range = np.linspace(1, 5, 41)\n",
    "\n",
    "            41 gives you 0.1 increment on K_multiplier\n",
    "            K would not be expected to be lower than 1, but upper \n",
    "            bound of 3 to 4 may be sufficient to capture any real \n",
    "            values\n",
    "    \n",
    "Then include:\n",
    "\n",
    "column.run_all()\n",
    "        \n",
    "        or\n",
    "\n",
    "column.run_all(optimize='brute') #run only this line or the line above, not both\n",
    "\n",
    "best fits are again stored back to 'column.k_data'\n",
    "\n",
    "    \n",
    "run_all() by default uses a multi-staged brute force approach. This subdivides the space into coarse grids, and performs a series of refining steps. \n",
    "\n",
    "'optimizer=brute' searches every combination of xn_range and test_range, while the default 'staged' behavior attempts to quickly locate the minimum by taking a coarser search while seeking the minimum. \n",
    "    \n",
    "including 'optimize=brute' could be used after run_all_smart() or the staged approach to ensure that the K & 1/n values around a minimum were thoroughly searched.\n",
    "    \n",
    "## Performance: \n",
    "                brute (1+ hours per compound)\n",
    "                staged (~5-10+ minutes per compound, depending on complexity)\n",
    "                using run_all_smart (~2-15 minutes per compound)\n",
    "  \n",
    "\n",
    "\n",
    "# Final Notes: \n",
    "If you got this far, you may be interested in using this for \n",
    "larger datasets. In the above examples, each of the examples is set up\n",
    "for looped execution. If you provide datasets with more than one compound\n",
    "in the data sheet (and associated properties) then this will loop over each\n",
    "compound individually.\n"
   ]
  }
 ],
 "metadata": {
  "kernelspec": {
   "display_name": "Python 3 (ipykernel)",
   "language": "python",
   "name": "python3"
  },
  "language_info": {
   "codemirror_mode": {
    "name": "ipython",
    "version": 3
   },
   "file_extension": ".py",
   "mimetype": "text/x-python",
   "name": "python",
   "nbconvert_exporter": "python",
   "pygments_lexer": "ipython3",
   "version": "3.11.5"
  }
 },
 "nbformat": 4,
 "nbformat_minor": 5
}
