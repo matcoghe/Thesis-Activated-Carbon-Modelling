{
 "cells": [
  {
   "cell_type": "markdown",
   "id": "50ed16ac-f34f-455e-8ad5-9cd320db3308",
   "metadata": {
    "tags": []
   },
   "source": [
    "# Simple Example of using the Pore and Surface Diffusion Model (PSDM)\n",
    "\n",
    "Originally developed by Michigan Technological University, coded in Python by US Environmental Protection Agency\n",
    "\n",
    "This can be used to model granular activated carbon (GAC) systems."
   ]
  },
  {
   "cell_type": "code",
   "execution_count": 58,
   "id": "57c9e228-7344-45ec-87c2-21a54dfec490",
   "metadata": {
    "tags": []
   },
   "outputs": [],
   "source": [
    "## Import Required Packages\n",
    "import warnings\n",
    "warnings.simplefilter(\"ignore\")\n",
    "\n",
    "import numpy as np\n",
    "import pandas as pd\n",
    "import pylab as plt\n",
    "\n",
    "import os\n",
    "srt_dir = os.getcwd()\n",
    "\n",
    "%run PSDM_NotebookMathieu.ipynb\n",
    "os.chdir(srt_dir)"
   ]
  },
  {
   "cell_type": "markdown",
   "id": "e55d2a38-1e9c-4b36-aa17-117574cc1488",
   "metadata": {},
   "source": [
    "## Files\n",
    "\n",
    "This example uses \"Example_TCE.xlsx\" as its input file. \n",
    "\n",
    "Sheet \"Properties\" has chemical properties of compounds you wish to model. You can have more compounds in your Properties sheet than the model needs, so it may be helpful to create a standard sheet for numerous projects. \n",
    "\n",
    "Sheet \"Kdata\" has K [(ug/g)(L/ug)^(1/n)] & 1/n (unitless) information. 'brk' stores the days to complete breakthrough. 'q' is solid phase concentration (ug/g). 'AveC' is the average concentration (ug/L). This information can be calculated by the model for fitting data, but this provides a mechanism for storing/inputing these values for some simulations. \n",
    "\n",
    "Sheet \"data\" has a data structure for ['type', 'time', 'concentration', 'compound']. Where type corresponds to where samples were taken (e.g., 'influent', 'effluent'). 'Time' is numeric and should the maximum value determines the lengh of simulations (The units of 'Time' are listed in the \"columnSpecs\" sheet). 'Concentration' units are also listed in \"columnSpecs\". 'Compounds' should match those in \"Properties\", and should provide information for both influent and effluent data. \n",
    "\n",
    "Sheet \"columnSpecs\" has column information. \n",
    "\n",
    "An example of reading in these sheets is shown below.\n",
    "\n"
   ]
  },
  {
   "cell_type": "code",
   "execution_count": 59,
   "id": "e116ffb6-b910-4a27-bc2d-1635444b9e59",
   "metadata": {
    "tags": []
   },
   "outputs": [],
   "source": [
    "# =============================================================================\n",
    "# Define the File to analyze\n",
    "# can be in different folder, must be explicit for file location or can \n",
    "# use referential convention '../data/filename.xlsx' or 'C:/folders.../filename'\n",
    "# =============================================================================\n",
    "fn = 'Example_TCE_1.xlsx'\n",
    "\n",
    "# =============================================================================\n",
    "# READ IN Chemical Property Information\n",
    "# may need to change location of file, depending on where it is stored locally\n",
    "# properties are included in 'fn' from above, but can be separate file as well\n",
    "# =============================================================================\n",
    "chem_data = process_input_data(fn, sheet_name='Properties') \n",
    "k_data = pd.read_excel(fn, sheet_name='Kdata',index_col=0) # K & 1/n data\n",
    "\n",
    "# =============================================================================\n",
    "# Read in Input File\n",
    "# Can change location of data_sheet= and column_sheet= to match file naming\n",
    "# =============================================================================\n",
    "raw_data, column_info,\\\n",
    "compounds, carbons, = process_input_file(fn,\\\n",
    "                                               data_sheet='data',\\\n",
    "                                               column_sheet='columnSpecs'\n",
    "                                              )"
   ]
  },
  {
   "cell_type": "markdown",
   "id": "2752f733-f320-4f70-9ff8-078aa2530332",
   "metadata": {},
   "source": [
    "# Example 1: Simple, no fouling\n",
    "\n",
    "    chem_type = 'halogenated alkenes' #omitted, see Example 2 for how to use\n",
    "    water_type = 'Organic Free'       #omitted, see Example 2 for how to use\n",
    "    nr = radial collocation points\n",
    "    nz = axial collocation points\n",
    "    k_data = pandas dataframe containing K & 1/n data (ug/g)(L/ug)^(1/n) expected"
   ]
  },
  {
   "cell_type": "code",
   "execution_count": 544,
   "id": "ef1775d7-4b3b-44ea-b2c3-9e263b61f568",
   "metadata": {
    "tags": []
   },
   "outputs": [
    {
     "name": "stdout",
     "output_type": "stream",
     "text": [
      "PFHpA\n",
      "EBCT:  9.88  min\n",
      "//Mathieu: the value of kf_v is:  0.0019965013909476106\n",
      "//Mathieu: the value of dp_v is:  5.682789381582172e-06\n",
      "//Mathieu: the value of ds_v is:  3.4378905505528534e-09\n",
      "//Mathieu: the value of epor (adsorbent particle void fraction or porosity) is:  0.641\n",
      "//Mathieu: the value of rhop (apparentDensity but I think particle density) is:  0.803\n"
     ]
    },
    {
     "data": {
      "image/png": "[encoded data removed]",
      "text/plain": [
       "<Figure size 640x480 with 1 Axes>"
      ]
     },
     "metadata": {},
     "output_type": "display_data"
    }
   ],
   "source": [
    "for comp in compounds:\n",
    "    print(comp)\n",
    "    \n",
    "    # SETTING UP PSDM simulation column\n",
    "    column = PSDM(column_info[carbons[0]], \n",
    "                   chem_data, \n",
    "                   raw_data,\n",
    "                   nr=8,\n",
    "                   nz=12, \n",
    "                   k_data=k_data,\\\n",
    "                   optimize=False\n",
    "                   )\n",
    "    \n",
    "    print('EBCT: ', np.round(column.ebct, 2), ' min') \n",
    "    column.test_range = np.array([k_data[comp]['K']]) \n",
    "    column.xn_range = np.array([k_data[comp]['1/n']])\n",
    "    \n",
    "    # RUNNING the simulation\n",
    "    # only results is used in this example\n",
    "    _compound, _k, _xn, _ssqs, results = column.run_psdm_kfit(comp)\n",
    "\n",
    "    ### plotting results \n",
    "    # units are converted from ug/L to mg/L \n",
    "    plt.plot(results.index, \n",
    "             results.values/1000., \n",
    "             label='PSDM')\n",
    "    (raw_data[column.influent][comp]/1000.).plot.line(label='influent',linestyle=':')\n",
    "    \n",
    "    # Plot Labels, etc.\n",
    "    plt.legend()\n",
    "    plt.title(comp+'\\nK: '+repr(round(_k,2))+' ($\\mu$g/g)(L/$\\mu$g)$^{1/n}$ - 1/n: '+repr(round(_xn,3)))\n",
    "    plt.xlabel(column_info[carbons[0]]['time'])\n",
    "    plt.ylabel('Concentration - mg/L (ppm)')\n",
    "    plt.savefig(comp+'_'+carbons[0]+'_example1.png', dpi=300)\n",
    "    \n",
    "    \n",
    "    tab2 = 'model-'+comp\n",
    "    ## Set up file to write output\n",
    "    with pd.ExcelWriter('Example_TCE_' + carbons[0] + '_example1.xlsx') as writer:\n",
    "        results.to_excel(writer, sheet_name=tab2)\n",
    "\n"
   ]
  },
  {
   "cell_type": "code",
   "execution_count": 17,
   "id": "cc6e3143-e4f7-4195-b658-4aea2207a63b",
   "metadata": {
    "tags": []
   },
   "outputs": [
    {
     "data": {
      "text/plain": [
       "0.0"
      ]
     },
     "execution_count": 17,
     "metadata": {},
     "output_type": "execute_result"
    }
   ],
   "source": [
    "column.mass_transfer[comp]['ds']"
   ]
  },
  {
   "cell_type": "code",
   "execution_count": null,
   "id": "b2a00c67-4db2-42de-b26d-a443122a8a88",
   "metadata": {
    "tags": []
   },
   "outputs": [],
   "source": [
    "chem_data"
   ]
  },
  {
   "cell_type": "code",
   "execution_count": null,
   "id": "5c239a0c-e15f-4968-9cbd-f0456edab53d",
   "metadata": {
    "tags": []
   },
   "outputs": [],
   "source": [
    "column_info"
   ]
  },
  {
   "cell_type": "code",
   "execution_count": null,
   "id": "62f11633-3313-4ee9-9367-ea450a5da027",
   "metadata": {
    "tags": []
   },
   "outputs": [],
   "source": [
    "raw_data"
   ]
  },
  {
   "cell_type": "code",
   "execution_count": null,
   "id": "fbfb1b1d-10b4-460f-9c4b-0fe864701865",
   "metadata": {
    "tags": []
   },
   "outputs": [],
   "source": [
    "column.k_data"
   ]
  },
  {
   "cell_type": "code",
   "execution_count": 16,
   "id": "5afdf5c9-3a81-4cdf-a950-38d0dc98d215",
   "metadata": {
    "tags": []
   },
   "outputs": [
    {
     "data": {
      "text/plain": [
       "0.43"
      ]
     },
     "execution_count": 16,
     "metadata": {},
     "output_type": "execute_result"
    }
   ],
   "source": [
    "_xn #represents '1/n'"
   ]
  },
  {
   "cell_type": "code",
   "execution_count": null,
   "id": "4b7f4fdd-5315-4d90-88de-0d15b3cada06",
   "metadata": {
    "tags": []
   },
   "outputs": [],
   "source": [
    "column.mass_transfer"
   ]
  },
  {
   "cell_type": "code",
   "execution_count": null,
   "id": "f232b88d-d36b-4c2d-9ee9-0210452d4e61",
   "metadata": {
    "tags": []
   },
   "outputs": [],
   "source": [
    "column.__dict__"
   ]
  },
  {
   "cell_type": "markdown",
   "id": "9828b4db-ee04-4855-b9ff-88c094c3d4bc",
   "metadata": {},
   "source": [
    "## Example 1a - Changing influent concentration programmatically  & Changing EBCT"
   ]
  },
  {
   "cell_type": "code",
   "execution_count": 236,
   "id": "f241a3ea-c70d-4dcf-9562-962d3c9a1f61",
   "metadata": {
    "tags": []
   },
   "outputs": [],
   "source": [
    "raw_data2 = raw_data.copy()              # create a copy of the raw data dataframe \n",
    "column_info2 = column_info[carbons[0]].copy()   # makes copy to change flowrate\n",
    "## change the concentration associated with the 'influent' column\n",
    "raw_data2[column.influent] = 5000        # 5ppm, rather than 50 ppm in original file\n",
    "\n"
   ]
  },
  {
   "cell_type": "code",
   "execution_count": 7,
   "id": "ba2d9404-0a87-4543-a860-f3fb0a177082",
   "metadata": {
    "tags": []
   },
   "outputs": [
    {
     "name": "stdout",
     "output_type": "stream",
     "text": [
      "Trichloroethylene\n",
      "EBCT:  9.4  min\n",
      "EBCT:  6.27  min\n"
     ]
    },
    {
     "data": {
      "image/png": "[encoded data removed]",
      "text/plain": [
       "<Figure size 640x480 with 1 Axes>"
      ]
     },
     "metadata": {},
     "output_type": "display_data"
    }
   ],
   "source": [
    "for comp in compounds:\n",
    "    print(comp)\n",
    "    \n",
    "    # SETTING UP PSDM simulation column\n",
    "    column = PSDM.PSDM(column_info[carbons[0]], \n",
    "                   chem_data, \n",
    "                   raw_data2,\n",
    "                   nr=8,\n",
    "                   nz=12, \n",
    "                   k_data=k_data,\\\n",
    "                   optimize=False\n",
    "                   )\n",
    "    \n",
    "    print('EBCT: ', np.round(column.ebct, 2), ' min') \n",
    "    column.test_range = np.array([k_data[comp]['K']])\n",
    "    column.xn_range = np.array([k_data[comp]['1/n']])\n",
    "    \n",
    "    # RUNNING the simulation\n",
    "    #only results is used in this example\n",
    "    _compound, _k, _xn, _ssqs, results = column.run_psdm_kfit(comp)\n",
    "    \n",
    "    # Change Flowrate, which changes EBCT, and rerun simulation\n",
    "    column_info2['flrt'] = column_info[carbons[0]]['flrt'] * 1.5 # internal units are mL/min, this just multiplies by 1.5\n",
    "    column2 = PSDM.PSDM(column_info2, \n",
    "                   chem_data, \n",
    "                   raw_data2,\n",
    "                   nr=8,\n",
    "                   nz=12, \n",
    "                   k_data=k_data,\\\n",
    "                   optimize=False\n",
    "                   )\n",
    "    \n",
    "    print('EBCT: ', np.round(column2.ebct, 2), ' min') \n",
    "    column2.test_range = np.array([k_data[comp]['K']])\n",
    "    column2.xn_range = np.array([k_data[comp]['1/n']])\n",
    "    _compound, _k, _xn, _ssqs, results2 = column2.run_psdm_kfit(comp)\n",
    "\n",
    "    \n",
    "    ### Plotting results \n",
    "    # plot results for 1st EBCT\n",
    "    plt.plot(results.index, \n",
    "             results.values/1000., \n",
    "             label='EBCT: '+repr(np.round(column.ebct,2)))\n",
    "    # plot results for 2nd EBCT\n",
    "    plt.plot(results2.index, \n",
    "             results2.values/1000., \n",
    "             label='EBCT: '+repr(np.round(column2.ebct,2)))\n",
    "    (raw_data2[column.influent][comp]/1000.).plot.line(label='influent',linestyle=':')\n",
    "    \n",
    "    # Plot Labels, etc.\n",
    "    plt.legend()\n",
    "    plt.title(comp+'\\nK: '+repr(round(_k,2))+' ($\\mu$g/g)(L/$\\mu$g)$^{1/n}$ - 1/n: '+repr(round(_xn,3)))\n",
    "    plt.xlabel(column_info[carbons[0]]['time'])\n",
    "    plt.ylabel('Concentration - mg/L (ppm)')\n",
    "    plt.savefig(comp+'_'+carbons[0]+'_example1a.png', dpi=300)\n",
    "    \n",
    "    tab2 = 'model-'+comp\n",
    "    with pd.ExcelWriter('Example_TCE_' + carbons[0] + '_example1a.xlsx') as writer:\n",
    "        results.to_excel(writer, sheet_name=tab2)\n",
    "    \n"
   ]
  },
  {
   "cell_type": "code",
   "execution_count": 8,
   "id": "0180ceb4-3e3a-4fe3-bb46-e8556323296a",
   "metadata": {
    "tags": []
   },
   "outputs": [
    {
     "data": {
      "text/plain": [
       "2146199.777527344"
      ]
     },
     "execution_count": 8,
     "metadata": {},
     "output_type": "execute_result"
    }
   ],
   "source": [
    "column.flrt"
   ]
  },
  {
   "cell_type": "markdown",
   "id": "da8c27dc-a6a0-4580-b524-93b340db3efd",
   "metadata": {},
   "source": [
    "\n",
    "# Example 2 - Variable influent\n",
    "\n",
    "Variable influent data stored in \"data_variable\" sheet. Must reload info.\n",
    "k_data didn't change, so will be reused from Example 1\n"
   ]
  },
  {
   "cell_type": "code",
   "execution_count": 60,
   "id": "c2ba1f5b-b5ae-4e16-b74b-a8ebb5b2bca9",
   "metadata": {
    "tags": []
   },
   "outputs": [],
   "source": [
    "raw_data, column_info,\\\n",
    "compounds, carbons, = process_input_file(fn,\\\n",
    "                                               data_sheet='data_variable',\\\n",
    "                                               column_sheet='columnSpecs'\n",
    "                                              )\n",
    "## User can look at raw_data to see new variable influent, or \n",
    "## see \"data_variable\" sheet\n"
   ]
  },
  {
   "cell_type": "code",
   "execution_count": 61,
   "id": "d81a0d53-5ad4-4fa5-939e-38d9bbddcfcb",
   "metadata": {
    "tags": []
   },
   "outputs": [
    {
     "data": {
      "text/html": [
       "<div>\n",
       "<style scoped>\n",
       "    .dataframe tbody tr th:only-of-type {\n",
       "        vertical-align: middle;\n",
       "    }\n",
       "\n",
       "    .dataframe tbody tr th {\n",
       "        vertical-align: top;\n",
       "    }\n",
       "\n",
       "    .dataframe thead tr th {\n",
       "        text-align: left;\n",
       "    }\n",
       "\n",
       "    .dataframe thead tr:last-of-type th {\n",
       "        text-align: right;\n",
       "    }\n",
       "</style>\n",
       "<table border=\"1\" class=\"dataframe\">\n",
       "  <thead>\n",
       "    <tr>\n",
       "      <th>type</th>\n",
       "      <th>influent</th>\n",
       "      <th>F400</th>\n",
       "    </tr>\n",
       "    <tr>\n",
       "      <th>compound</th>\n",
       "      <th>PFHpA</th>\n",
       "      <th>PFHpA</th>\n",
       "    </tr>\n",
       "    <tr>\n",
       "      <th>time</th>\n",
       "      <th></th>\n",
       "      <th></th>\n",
       "    </tr>\n",
       "  </thead>\n",
       "  <tbody>\n",
       "    <tr>\n",
       "      <th>0</th>\n",
       "      <td>0.0110</td>\n",
       "      <td>0.0</td>\n",
       "    </tr>\n",
       "    <tr>\n",
       "      <th>13</th>\n",
       "      <td>0.0150</td>\n",
       "      <td>0.0</td>\n",
       "    </tr>\n",
       "    <tr>\n",
       "      <th>34</th>\n",
       "      <td>0.0200</td>\n",
       "      <td>0.0</td>\n",
       "    </tr>\n",
       "    <tr>\n",
       "      <th>48</th>\n",
       "      <td>0.0150</td>\n",
       "      <td>0.0</td>\n",
       "    </tr>\n",
       "    <tr>\n",
       "      <th>62</th>\n",
       "      <td>0.0270</td>\n",
       "      <td>0.0</td>\n",
       "    </tr>\n",
       "    <tr>\n",
       "      <th>76</th>\n",
       "      <td>0.0370</td>\n",
       "      <td>0.0</td>\n",
       "    </tr>\n",
       "    <tr>\n",
       "      <th>97</th>\n",
       "      <td>0.0426</td>\n",
       "      <td>0.0</td>\n",
       "    </tr>\n",
       "    <tr>\n",
       "      <th>111</th>\n",
       "      <td>0.0399</td>\n",
       "      <td>0.0</td>\n",
       "    </tr>\n",
       "    <tr>\n",
       "      <th>124</th>\n",
       "      <td>0.0509</td>\n",
       "      <td>0.0</td>\n",
       "    </tr>\n",
       "  </tbody>\n",
       "</table>\n",
       "</div>"
      ],
      "text/plain": [
       "type     influent  F400\n",
       "compound    PFHpA PFHpA\n",
       "time                   \n",
       "0          0.0110   0.0\n",
       "13         0.0150   0.0\n",
       "34         0.0200   0.0\n",
       "48         0.0150   0.0\n",
       "62         0.0270   0.0\n",
       "76         0.0370   0.0\n",
       "97         0.0426   0.0\n",
       "111        0.0399   0.0\n",
       "124        0.0509   0.0"
      ]
     },
     "execution_count": 61,
     "metadata": {},
     "output_type": "execute_result"
    }
   ],
   "source": [
    "raw_data"
   ]
  },
  {
   "cell_type": "code",
   "execution_count": 62,
   "id": "cd0c9e4d-2e97-47cd-860d-35599aebc41a",
   "metadata": {
    "tags": []
   },
   "outputs": [
    {
     "data": {
      "text/html": [
       "<div>\n",
       "<style scoped>\n",
       "    .dataframe tbody tr th:only-of-type {\n",
       "        vertical-align: middle;\n",
       "    }\n",
       "\n",
       "    .dataframe tbody tr th {\n",
       "        vertical-align: top;\n",
       "    }\n",
       "\n",
       "    .dataframe thead th {\n",
       "        text-align: right;\n",
       "    }\n",
       "</style>\n",
       "<table border=\"1\" class=\"dataframe\">\n",
       "  <thead>\n",
       "    <tr style=\"text-align: right;\">\n",
       "      <th></th>\n",
       "      <th>F400</th>\n",
       "    </tr>\n",
       "  </thead>\n",
       "  <tbody>\n",
       "    <tr>\n",
       "      <th>rad</th>\n",
       "      <td>0.0513</td>\n",
       "    </tr>\n",
       "    <tr>\n",
       "      <th>flrt</th>\n",
       "      <td>984.207064</td>\n",
       "    </tr>\n",
       "    <tr>\n",
       "      <th>epor</th>\n",
       "      <td>0.641</td>\n",
       "    </tr>\n",
       "    <tr>\n",
       "      <th>psdfr</th>\n",
       "      <td>5.0</td>\n",
       "    </tr>\n",
       "    <tr>\n",
       "      <th>rhop</th>\n",
       "      <td>0.803</td>\n",
       "    </tr>\n",
       "    <tr>\n",
       "      <th>rhof</th>\n",
       "      <td>0.62</td>\n",
       "    </tr>\n",
       "    <tr>\n",
       "      <th>L</th>\n",
       "      <td>120.0</td>\n",
       "    </tr>\n",
       "    <tr>\n",
       "      <th>wt</th>\n",
       "      <td>1973.126809</td>\n",
       "    </tr>\n",
       "    <tr>\n",
       "      <th>diam</th>\n",
       "      <td>10.155936</td>\n",
       "    </tr>\n",
       "    <tr>\n",
       "      <th>tortu</th>\n",
       "      <td>1.0</td>\n",
       "    </tr>\n",
       "    <tr>\n",
       "      <th>influentID</th>\n",
       "      <td>influent</td>\n",
       "    </tr>\n",
       "    <tr>\n",
       "      <th>effluentID</th>\n",
       "      <td>effluent</td>\n",
       "    </tr>\n",
       "    <tr>\n",
       "      <th>units</th>\n",
       "      <td>ug</td>\n",
       "    </tr>\n",
       "    <tr>\n",
       "      <th>time</th>\n",
       "      <td>days</td>\n",
       "    </tr>\n",
       "    <tr>\n",
       "      <th>mass_mul</th>\n",
       "      <td>1.0</td>\n",
       "    </tr>\n",
       "    <tr>\n",
       "      <th>t_mult</th>\n",
       "      <td>1440</td>\n",
       "    </tr>\n",
       "    <tr>\n",
       "      <th>flow_mult</th>\n",
       "      <td>0.001</td>\n",
       "    </tr>\n",
       "    <tr>\n",
       "      <th>flow_type</th>\n",
       "      <td>ml</td>\n",
       "    </tr>\n",
       "  </tbody>\n",
       "</table>\n",
       "</div>"
      ],
      "text/plain": [
       "                   F400\n",
       "rad              0.0513\n",
       "flrt         984.207064\n",
       "epor              0.641\n",
       "psdfr               5.0\n",
       "rhop              0.803\n",
       "rhof               0.62\n",
       "L                 120.0\n",
       "wt          1973.126809\n",
       "diam          10.155936\n",
       "tortu               1.0\n",
       "influentID     influent\n",
       "effluentID     effluent\n",
       "units                ug\n",
       "time               days\n",
       "mass_mul            1.0\n",
       "t_mult             1440\n",
       "flow_mult         0.001\n",
       "flow_type            ml"
      ]
     },
     "execution_count": 62,
     "metadata": {},
     "output_type": "execute_result"
    }
   ],
   "source": [
    "column_info"
   ]
  },
  {
   "cell_type": "code",
   "execution_count": 63,
   "id": "f5c7fc09-095c-41cb-ba22-7efb885ac743",
   "metadata": {
    "tags": []
   },
   "outputs": [
    {
     "data": {
      "text/html": [
       "<div>\n",
       "<style scoped>\n",
       "    .dataframe tbody tr th:only-of-type {\n",
       "        vertical-align: middle;\n",
       "    }\n",
       "\n",
       "    .dataframe tbody tr th {\n",
       "        vertical-align: top;\n",
       "    }\n",
       "\n",
       "    .dataframe thead th {\n",
       "        text-align: right;\n",
       "    }\n",
       "</style>\n",
       "<table border=\"1\" class=\"dataframe\">\n",
       "  <thead>\n",
       "    <tr style=\"text-align: right;\">\n",
       "      <th></th>\n",
       "      <th>PFHpA</th>\n",
       "    </tr>\n",
       "  </thead>\n",
       "  <tbody>\n",
       "    <tr>\n",
       "      <th>K</th>\n",
       "      <td>6.764</td>\n",
       "    </tr>\n",
       "    <tr>\n",
       "      <th>1/n</th>\n",
       "      <td>0.600</td>\n",
       "    </tr>\n",
       "    <tr>\n",
       "      <th>q</th>\n",
       "      <td>0.001</td>\n",
       "    </tr>\n",
       "    <tr>\n",
       "      <th>brk</th>\n",
       "      <td>200.000</td>\n",
       "    </tr>\n",
       "    <tr>\n",
       "      <th>AveC</th>\n",
       "      <td>0.030</td>\n",
       "    </tr>\n",
       "  </tbody>\n",
       "</table>\n",
       "</div>"
      ],
      "text/plain": [
       "        PFHpA\n",
       "K       6.764\n",
       "1/n     0.600\n",
       "q       0.001\n",
       "brk   200.000\n",
       "AveC    0.030"
      ]
     },
     "execution_count": 63,
     "metadata": {},
     "output_type": "execute_result"
    }
   ],
   "source": [
    "k_data"
   ]
  },
  {
   "cell_type": "code",
   "execution_count": 64,
   "id": "51aff5f4-6926-4fa8-9c73-e2668c817d56",
   "metadata": {
    "tags": []
   },
   "outputs": [
    {
     "data": {
      "text/html": [
       "<div>\n",
       "<style scoped>\n",
       "    .dataframe tbody tr th:only-of-type {\n",
       "        vertical-align: middle;\n",
       "    }\n",
       "\n",
       "    .dataframe tbody tr th {\n",
       "        vertical-align: top;\n",
       "    }\n",
       "\n",
       "    .dataframe thead th {\n",
       "        text-align: right;\n",
       "    }\n",
       "</style>\n",
       "<table border=\"1\" class=\"dataframe\">\n",
       "  <thead>\n",
       "    <tr style=\"text-align: right;\">\n",
       "      <th></th>\n",
       "      <th>PFHpA</th>\n",
       "    </tr>\n",
       "  </thead>\n",
       "  <tbody>\n",
       "    <tr>\n",
       "      <th>MW</th>\n",
       "      <td>364.060</td>\n",
       "    </tr>\n",
       "    <tr>\n",
       "      <th>MolarVol</th>\n",
       "      <td>203.158</td>\n",
       "    </tr>\n",
       "    <tr>\n",
       "      <th>BP</th>\n",
       "      <td>175.000</td>\n",
       "    </tr>\n",
       "    <tr>\n",
       "      <th>Density</th>\n",
       "      <td>1.792</td>\n",
       "    </tr>\n",
       "    <tr>\n",
       "      <th>Solubility</th>\n",
       "      <td>0.000</td>\n",
       "    </tr>\n",
       "    <tr>\n",
       "      <th>VaporPress</th>\n",
       "      <td>0.000</td>\n",
       "    </tr>\n",
       "  </tbody>\n",
       "</table>\n",
       "</div>"
      ],
      "text/plain": [
       "              PFHpA\n",
       "MW          364.060\n",
       "MolarVol    203.158\n",
       "BP          175.000\n",
       "Density       1.792\n",
       "Solubility    0.000\n",
       "VaporPress    0.000"
      ]
     },
     "execution_count": 64,
     "metadata": {},
     "output_type": "execute_result"
    }
   ],
   "source": [
    "chem_data"
   ]
  },
  {
   "cell_type": "code",
   "execution_count": 65,
   "id": "dfab5345-de32-418c-abc6-279cc30480c4",
   "metadata": {},
   "outputs": [
    {
     "name": "stdout",
     "output_type": "stream",
     "text": [
      "PFHpA\n",
      "EBCT:  9.88  min\n",
      "//Mathieu: flow rate is  984.20706384  ml/min.\n",
      "//Mathieu: the value of kf_v is:  0.001139927006780349\n",
      "//Mathieu: the value of dp_v is:  5.682789381582172e-06\n",
      "//Mathieu: the value of ds_v is:  5.521124290624098e-10\n",
      "//Mathieu: the value of epor (adsorbent particle void fraction or porosity) is:  0.641\n",
      "//Mathieu: the value of rhop (apparentDensity but I think particle density) is:  0.803\n",
      "//Mathieu: here is y0.size:  33\n",
      "//Mathieu: here is y0:\n",
      "[0. 0. 0. 0. 0. 0. 0. 0. 0. 0. 0. 0. 0. 0. 0. 0. 0. 0. 0. 0. 0. 0. 0. 0.\n",
      " 0. 0. 0. 0. 0. 0. 0. 0. 0.]\n",
      "//Mathieu: here is y.y:\n",
      "[[ 0.00000000e+00  0.00000000e+00  0.00000000e+00 ...  0.00000000e+00\n",
      "   0.00000000e+00  0.00000000e+00]\n",
      " [ 0.00000000e+00  1.33283714e-20  5.74724376e-20 ...  2.37581819e+00\n",
      "   2.37777228e+00  2.37829345e+00]\n",
      " [ 0.00000000e+00 -3.80407898e-21 -1.64023023e-20 ...  2.35347708e+00\n",
      "   2.35531442e+00  2.35580473e+00]\n",
      " ...\n",
      " [ 0.00000000e+00 -5.45114603e-06 -1.08997340e-05 ...  3.81844637e+00\n",
      "   3.82112151e+00  3.82183731e+00]\n",
      " [ 0.00000000e+00  3.45973775e-06  6.91878575e-06 ...  3.78582002e+00\n",
      "   3.78831668e+00  3.78898467e+00]\n",
      " [ 0.00000000e+00  0.00000000e+00  0.00000000e+00 ...  3.77805654e+00\n",
      "   3.78051550e+00  3.78117337e+00]]\n",
      "//Mathieu: here is cp:\n",
      "<scipy.interpolate._interpolate.interp1d object at 0x00000288D7D23F20>\n",
      "//Mathieu: here is ssq:\n",
      "7147.867487727752\n"
     ]
    },
    {
     "data": {
      "image/png": "[encoded data removed]",
      "text/plain": [
       "<Figure size 640x480 with 1 Axes>"
      ]
     },
     "metadata": {},
     "output_type": "display_data"
    }
   ],
   "source": [
    "chem_type = 'halogenated alkanes'\n",
    "water_type = 'Rhine'\n",
    "#note additional inputs in definition of column, below.\n",
    "\n",
    "for comp in compounds:\n",
    "    print(comp)\n",
    "    \n",
    "    # SETTING UP PSDM simulation column\n",
    "    column = PSDM(column_info[carbons[0]], \n",
    "                   chem_data, \n",
    "                   raw_data,\n",
    "                   nr=2,\n",
    "                   nz=11, \n",
    "                   k_data=k_data,\n",
    "                   optimize=False\n",
    "                   )\n",
    "    \n",
    "    print('EBCT: ', round(column.ebct, 2), ' min') \n",
    "    column.test_range = np.array([k_data[comp]['K']])\n",
    "    column.xn_range = np.array([k_data[comp]['1/n']])\n",
    "    \n",
    "    print('//Mathieu: flow rate is ', column.flrt, \" ml/min.\")\n",
    "    \n",
    "    # RUNNING the simulation\n",
    "    #only results is used in this example\n",
    "    _compound, _k, _xn, _ssqs, results = column.run_psdm_kfit(comp)\n",
    "    \n",
    "#     column2 = PSDM.PSDM(column_info[carbons[0]], \n",
    "#                    chem_data, \n",
    "#                    raw_data,\n",
    "#                    nr=8,\n",
    "#                    nz=12, \n",
    "#                    k_data=k_data,\n",
    "#                    chem_type=chem_type,\n",
    "#                    water_type=water_type,\n",
    "#                    optimize=False\n",
    "#                    )\n",
    "    \n",
    "#     column2.test_range = np.array([k_data[comp]['K']])\n",
    "#     column2.xn_range = np.array([k_data[comp]['1/n']])\n",
    "    \n",
    "#     # RUNNING the simulation\n",
    "#     #only results is used in this example\n",
    "#     _compound, _k, _xn, _ssqs, results2 = column2.run_psdm_kfit(comp)\n",
    "    \n",
    "    ### plotting results \n",
    "    # units are converted from ug/L to mg/L \n",
    "    plt.plot(results.index, \n",
    "             results.values/1000., \n",
    "             label='PSDM-no fouling')\n",
    "    # plt.plot(results2.index, \n",
    "    #          results2.values/1000., \n",
    "    #          label='PSDM-with fouling')\n",
    "    (raw_data[column.influent][comp]/1000.).plot.line(label='influent',linestyle=':')\n",
    "    \n",
    "    # Plot Labels, etc.\n",
    "    plt.legend()\n",
    "    plt.title(comp+'\\nK: '+repr(round(_k,2))+' ($\\mu$g/g)(L/$\\mu$g)$^{1/n}$ - 1/n: '+repr(round(_xn,3)))\n",
    "    plt.xlabel(column_info[carbons[0]]['time'])\n",
    "    plt.ylabel('Concentration - mg/L (ppm)')\n",
    "    plt.savefig(comp+'_'+carbons[0]+'_example2.png', dpi=300)\n",
    "    \n",
    "    tab2 = 'model-'+comp\n",
    "    \n",
    "    with pd.ExcelWriter('Example_TCE_' + carbons[0] + '_example2.xlsx') as writer:\n",
    "        results.to_excel(writer, sheet_name=tab2)    "
   ]
  },
  {
   "cell_type": "code",
   "execution_count": 9,
   "id": "dbe83c3b-2e95-4d24-befe-bcbad59ef8c5",
   "metadata": {
    "tags": []
   },
   "outputs": [
    {
     "data": {
      "text/plain": [
       "'Organic Free'"
      ]
     },
     "execution_count": 9,
     "metadata": {},
     "output_type": "execute_result"
    }
   ],
   "source": [
    "column.water_type"
   ]
  },
  {
   "cell_type": "code",
   "execution_count": 11,
   "id": "419eaae7-76d7-4ab3-8395-8318fd24613a",
   "metadata": {
    "tags": []
   },
   "outputs": [
    {
     "ename": "AttributeError",
     "evalue": "'PSDM' object has no attribute 'cp'",
     "output_type": "error",
     "traceback": [
      "\u001b[1;31m---------------------------------------------------------------------------\u001b[0m",
      "\u001b[1;31mAttributeError\u001b[0m                            Traceback (most recent call last)",
      "Cell \u001b[1;32mIn[11], line 1\u001b[0m\n\u001b[1;32m----> 1\u001b[0m column\u001b[38;5;241m.\u001b[39mcp\n",
      "\u001b[1;31mAttributeError\u001b[0m: 'PSDM' object has no attribute 'cp'"
     ]
    }
   ],
   "source": [
    "column.cp"
   ]
  },
  {
   "cell_type": "code",
   "execution_count": 10,
   "id": "6121f817-498e-4caf-b4b7-e826c3fa8cc2",
   "metadata": {
    "tags": []
   },
   "outputs": [
    {
     "data": {
      "text/plain": [
       "{'project_name': 'PSDM',\n",
       " 'nc': 8,\n",
       " 'mc': 11,\n",
       " 'nz': 11,\n",
       " 'ne': 1,\n",
       " 'wr': array([0.00672384, 0.02451753, 0.04701138, 0.06589205, 0.07358414,\n",
       "        0.06571099, 0.04254046, 0.00735294]),\n",
       " 'az': array([[-9.10000000e+01,  1.01166548e+02, -1.33622488e+01,\n",
       "          4.72860482e+00, -2.47287625e+00,  1.62539683e+00,\n",
       "         -1.26187150e+00,  1.13316355e+00, -1.19333116e+00,\n",
       "          1.63661404e+00, -1.00000000e+00],\n",
       "        [-3.90016943e+01,  3.08991827e+01,  1.02959329e+01,\n",
       "         -3.19948679e+00,  1.61133739e+00, -1.04240248e+00,\n",
       "          8.02801115e-01, -7.17748572e-01,  7.54017961e-01,\n",
       "         -1.03288687e+00,  6.30946902e-01],\n",
       "        [ 1.11341614e+01, -2.22534383e+01,  5.55406469e+00,\n",
       "          7.49504716e+00, -2.98053257e+00,  1.77470409e+00,\n",
       "         -1.31465172e+00,  1.15140185e+00, -1.19612774e+00,\n",
       "          1.62972043e+00, -9.94349226e-01],\n",
       "        [-5.65899214e+00,  9.93207181e+00, -1.07647136e+01,\n",
       "          1.96664167e+00,  6.32286818e+00, -2.89893780e+00,\n",
       "          1.94966574e+00, -1.63033351e+00,  1.65369355e+00,\n",
       "         -2.22808557e+00,  1.35612171e+00],\n",
       "        [ 3.54233720e+00, -5.98725095e+00,  5.12393285e+00,\n",
       "         -7.56825182e+00,  7.24702246e-01,  5.99954887e+00,\n",
       "         -3.08400753e+00,  2.33368163e+00, -2.26006158e+00,\n",
       "          2.98297039e+00, -1.80760132e+00],\n",
       "        [-2.46093750e+00,  4.09383251e+00, -3.22469889e+00,\n",
       "          3.66753278e+00, -6.34121175e+00, -4.48787807e-14,\n",
       "          6.34121175e+00, -3.66753278e+00,  3.22469889e+00,\n",
       "         -4.09383251e+00,  2.46093750e+00],\n",
       "        [ 1.80760132e+00, -2.98297039e+00,  2.26006158e+00,\n",
       "         -2.33368163e+00,  3.08400753e+00, -5.99954887e+00,\n",
       "         -7.24702246e-01,  7.56825182e+00, -5.12393285e+00,\n",
       "          5.98725095e+00, -3.54233720e+00],\n",
       "        [-1.35612171e+00,  2.22808557e+00, -1.65369355e+00,\n",
       "          1.63033351e+00, -1.94966574e+00,  2.89893780e+00,\n",
       "         -6.32286818e+00, -1.96664167e+00,  1.07647136e+01,\n",
       "         -9.93207181e+00,  5.65899214e+00],\n",
       "        [ 9.94349226e-01, -1.62972043e+00,  1.19612774e+00,\n",
       "         -1.15140185e+00,  1.31465172e+00, -1.77470409e+00,\n",
       "          2.98053257e+00, -7.49504716e+00, -5.55406469e+00,\n",
       "          2.22534383e+01, -1.11341614e+01],\n",
       "        [-6.30946902e-01,  1.03288687e+00, -7.54017961e-01,\n",
       "          7.17748572e-01, -8.02801115e-01,  1.04240248e+00,\n",
       "         -1.61133739e+00,  3.19948679e+00, -1.02959329e+01,\n",
       "         -3.08991827e+01,  3.90016943e+01],\n",
       "        [ 1.00000000e+00, -1.63661404e+00,  1.19333116e+00,\n",
       "         -1.13316355e+00,  1.26187150e+00, -1.62539683e+00,\n",
       "          2.47287625e+00, -4.72860482e+00,  1.33622488e+01,\n",
       "         -1.01166548e+02,  9.10000000e+01]]),\n",
       " 'br': array([[-8.01224040e+01,  1.02356777e+02, -3.28125819e+01,\n",
       "          1.68174616e+01, -1.03257665e+01,  6.85156358e+00,\n",
       "         -4.47080946e+00,  1.70575957e+00],\n",
       "        [ 2.80709355e+01, -1.01634732e+02,  9.34060846e+01,\n",
       "         -2.93489768e+01,  1.51582967e+01, -9.29362690e+00,\n",
       "          5.83902901e+00, -2.19701003e+00],\n",
       "        [-4.69304237e+00,  4.87134574e+01, -1.26553288e+02,\n",
       "          1.04178503e+02, -3.18946375e+01,  1.61982109e+01,\n",
       "         -9.37693935e+00,  3.42773581e+00],\n",
       "        [ 1.71610738e+00, -1.09203535e+01,  7.43272490e+01,\n",
       "         -1.72484638e+02,  1.35057055e+02, -4.05431309e+01,\n",
       "          1.96126316e+01, -6.76492023e+00],\n",
       "        [-9.43528764e-01,  5.05059987e+00, -2.03768217e+01,\n",
       "          1.20938925e+02, -2.70186754e+02,  2.07974183e+02,\n",
       "         -6.08771353e+01,  1.84205316e+01],\n",
       "        [ 7.01081850e-01, -3.46755997e+00,  1.15886277e+01,\n",
       "         -4.06548441e+01,  2.32892560e+02, -5.31798589e+02,\n",
       "          4.14790222e+02, -8.40514985e+01],\n",
       "        [-7.06644602e-01,  3.36523373e+00, -1.03624374e+01,\n",
       "          3.03785290e+01, -1.05301910e+02,  6.40714220e+02,\n",
       "         -1.70971959e+03,  1.15163260e+03],\n",
       "        [-4.95692793e+01,  2.07247268e+02, -5.04813662e+02,\n",
       "          1.01629467e+03, -1.91305904e+03,  3.59806285e+03,\n",
       "         -5.34666281e+03,  2.99250000e+03]]),\n",
       " 'nd': 7,\n",
       " 'temp': 20,\n",
       " 'vw': 0.010176614317843977,\n",
       " 'dw': 0.9982589737767772,\n",
       " 'time_type': 'days',\n",
       " 't_mult': 1440,\n",
       " 'flow_type': 'ml',\n",
       " 'flow_mult': 0.001,\n",
       " 'conc_type': 'ug',\n",
       " 'mass_mul': 1.0,\n",
       " 'L': 120.0,\n",
       " 'diam': 10.155936,\n",
       " 'wt': 1973.1268094999998,\n",
       " 'flrt': 984.20706384,\n",
       " 'rhop': 0.803,\n",
       " 'rhof': 0.62,\n",
       " 'rad': 0.0513,\n",
       " 'tortu': 1.0,\n",
       " 'psdfr': 5.0,\n",
       " 'epor': 0.641,\n",
       " 'influent': 'influent',\n",
       " 'carbon': 'F400',\n",
       " 'duration': 124,\n",
       " 'area': 81.00835106998663,\n",
       " 'bedvol': 9721.002128398395,\n",
       " 'ebed': 0.7472283205176691,\n",
       " 'tau': 442.82194434641923,\n",
       " 'sf': 2.981765469972429,\n",
       " 'vs': 0.20249086479773362,\n",
       " 're': 2.727340613406092,\n",
       " 'ebct': 9.876988781680511,\n",
       " 'data_df': type     influent  F400\n",
       " compound    PFHpA PFHpA\n",
       " time                   \n",
       " 0          0.0110   0.0\n",
       " 13         0.0150   0.0\n",
       " 34         0.0200   0.0\n",
       " 48         0.0150   0.0\n",
       " 62         0.0270   0.0\n",
       " 76         0.0370   0.0\n",
       " 97         0.0426   0.0\n",
       " 111        0.0399   0.0\n",
       " 124        0.0509   0.0,\n",
       " 'comp_df':               PFHpA\n",
       " MW          364.060\n",
       " MolarVol    203.158\n",
       " BP          175.000\n",
       " Density       1.792\n",
       " Solubility    0.000\n",
       " VaporPress    0.000,\n",
       " 'xn': 0.45,\n",
       " 'xdata': array([  0,  13,  34,  48,  62,  76,  97, 111, 124], dtype=int64),\n",
       " 'brk_type': 'calc',\n",
       " 'brk_df': None,\n",
       " 'compounds': ['PFHpA'],\n",
       " 'num_comps': 1,\n",
       " '_PSDM__y0shape': (1, 9, 11),\n",
       " '_PSDM__altshape': (1, 8, 11),\n",
       " 'jac_sparse': <99x99 sparse matrix of type '<class 'numpy.float64'>'\n",
       " \twith 824 stored elements in COOrdinate format>,\n",
       " 'jac_sparse_single': <99x99 sparse matrix of type '<class 'numpy.float64'>'\n",
       " \twith 824 stored elements in COOrdinate format>,\n",
       " 'k_data':         PFHpA\n",
       " K       6.764\n",
       " 1/n     0.600\n",
       " q       0.001\n",
       " brk   200.000\n",
       " AveC    0.030,\n",
       " 'k_data_orig':         PFHpA\n",
       " K       6.764\n",
       " 1/n     0.600\n",
       " q       0.001\n",
       " brk   200.000\n",
       " AveC    0.030,\n",
       " 'water_type': 'Organic Free',\n",
       " 'chem_type': 'halogenated alkenes',\n",
       " 'test_range': array([6.764]),\n",
       " 'xn_range': array([0.6]),\n",
       " 'processes': 8,\n",
       " 'optimize_flag': False,\n",
       " 'rk1_store': PFHpA    1.0\n",
       " dtype: float64,\n",
       " 'rk2_store': PFHpA    0.0\n",
       " dtype: float64,\n",
       " 'rk3_store': PFHpA    0.0\n",
       " dtype: float64,\n",
       " 'rk4_store': PFHpA    0.0\n",
       " dtype: float64,\n",
       " 'max_days': 2000,\n",
       " 'timeout': 300,\n",
       " 'plot_output': False,\n",
       " 'file_output': True,\n",
       " 'solver': 'BDF',\n",
       " 'fouling_dict': {'PFHpA': <scipy.interpolate._interpolate.interp1d at 0x288d323e760>},\n",
       " 'time_vals': array([      0.        ,    5771.54308617,   11543.08617234,\n",
       "          17314.62925852,   23086.17234469,   28857.71543086,\n",
       "          34629.25851703,   40400.80160321,   46172.34468938,\n",
       "          51943.88777555,   57715.43086172,   63486.9739479 ,\n",
       "          69258.51703407,   75030.06012024,   80801.60320641,\n",
       "          86573.14629259,   92344.68937876,   98116.23246493,\n",
       "         103887.7755511 ,  109659.31863727,  115430.86172345,\n",
       "         121202.40480962,  126973.94789579,  132745.49098196,\n",
       "         138517.03406814,  144288.57715431,  150060.12024048,\n",
       "         155831.66332665,  161603.20641283,  167374.749499  ,\n",
       "         173146.29258517,  178917.83567134,  184689.37875752,\n",
       "         190460.92184369,  196232.46492986,  202004.00801603,\n",
       "         207775.5511022 ,  213547.09418838,  219318.63727455,\n",
       "         225090.18036072,  230861.72344689,  236633.26653307,\n",
       "         242404.80961924,  248176.35270541,  253947.89579158,\n",
       "         259719.43887776,  265490.98196393,  271262.5250501 ,\n",
       "         277034.06813627,  282805.61122244,  288577.15430862,\n",
       "         294348.69739479,  300120.24048096,  305891.78356713,\n",
       "         311663.32665331,  317434.86973948,  323206.41282565,\n",
       "         328977.95591182,  334749.498998  ,  340521.04208417,\n",
       "         346292.58517034,  352064.12825651,  357835.67134269,\n",
       "         363607.21442886,  369378.75751503,  375150.3006012 ,\n",
       "         380921.84368737,  386693.38677355,  392464.92985972,\n",
       "         398236.47294589,  404008.01603206,  409779.55911824,\n",
       "         415551.10220441,  421322.64529058,  427094.18837675,\n",
       "         432865.73146293,  438637.2745491 ,  444408.81763527,\n",
       "         450180.36072144,  455951.90380762,  461723.44689379,\n",
       "         467494.98997996,  473266.53306613,  479038.0761523 ,\n",
       "         484809.61923848,  490581.16232465,  496352.70541082,\n",
       "         502124.24849699,  507895.79158317,  513667.33466934,\n",
       "         519438.87775551,  525210.42084168,  530981.96392786,\n",
       "         536753.50701403,  542525.0501002 ,  548296.59318637,\n",
       "         554068.13627255,  559839.67935872,  565611.22244489,\n",
       "         571382.76553106,  577154.30861723,  582925.85170341,\n",
       "         588697.39478958,  594468.93787575,  600240.48096192,\n",
       "         606012.0240481 ,  611783.56713427,  617555.11022044,\n",
       "         623326.65330661,  629098.19639279,  634869.73947896,\n",
       "         640641.28256513,  646412.8256513 ,  652184.36873747,\n",
       "         657955.91182365,  663727.45490982,  669498.99799599,\n",
       "         675270.54108216,  681042.08416834,  686813.62725451,\n",
       "         692585.17034068,  698356.71342685,  704128.25651303,\n",
       "         709899.7995992 ,  715671.34268537,  721442.88577154,\n",
       "         727214.42885772,  732985.97194389,  738757.51503006,\n",
       "         744529.05811623,  750300.6012024 ,  756072.14428858,\n",
       "         761843.68737475,  767615.23046092,  773386.77354709,\n",
       "         779158.31663327,  784929.85971944,  790701.40280561,\n",
       "         796472.94589178,  802244.48897796,  808016.03206413,\n",
       "         813787.5751503 ,  819559.11823647,  825330.66132265,\n",
       "         831102.20440882,  836873.74749499,  842645.29058116,\n",
       "         848416.83366733,  854188.37675351,  859959.91983968,\n",
       "         865731.46292585,  871503.00601202,  877274.5490982 ,\n",
       "         883046.09218437,  888817.63527054,  894589.17835671,\n",
       "         900360.72144289,  906132.26452906,  911903.80761523,\n",
       "         917675.3507014 ,  923446.89378758,  929218.43687375,\n",
       "         934989.97995992,  940761.52304609,  946533.06613226,\n",
       "         952304.60921844,  958076.15230461,  963847.69539078,\n",
       "         969619.23847695,  975390.78156313,  981162.3246493 ,\n",
       "         986933.86773547,  992705.41082164,  998476.95390782,\n",
       "        1004248.49699399, 1010020.04008016, 1015791.58316633,\n",
       "        1021563.1262525 , 1027334.66933868, 1033106.21242485,\n",
       "        1038877.75551102, 1044649.29859719, 1050420.84168337,\n",
       "        1056192.38476954, 1061963.92785571, 1067735.47094188,\n",
       "        1073507.01402806, 1079278.55711423, 1085050.1002004 ,\n",
       "        1090821.64328657, 1096593.18637275, 1102364.72945892,\n",
       "        1108136.27254509, 1113907.81563126, 1119679.35871743,\n",
       "        1125450.90180361, 1131222.44488978, 1136993.98797595,\n",
       "        1142765.53106212, 1148537.0741483 , 1154308.61723447,\n",
       "        1160080.16032064, 1165851.70340681, 1171623.24649299,\n",
       "        1177394.78957916, 1183166.33266533, 1188937.8757515 ,\n",
       "        1194709.41883768, 1200480.96192385, 1206252.50501002,\n",
       "        1212024.04809619, 1217795.59118236, 1223567.13426854,\n",
       "        1229338.67735471, 1235110.22044088, 1240881.76352705,\n",
       "        1246653.30661323, 1252424.8496994 , 1258196.39278557,\n",
       "        1263967.93587174, 1269739.47895792, 1275511.02204409,\n",
       "        1281282.56513026, 1287054.10821643, 1292825.65130261,\n",
       "        1298597.19438878, 1304368.73747495, 1310140.28056112,\n",
       "        1315911.82364729, 1321683.36673347, 1327454.90981964,\n",
       "        1333226.45290581, 1338997.99599198, 1344769.53907816,\n",
       "        1350541.08216433, 1356312.6252505 , 1362084.16833667,\n",
       "        1367855.71142285, 1373627.25450902, 1379398.79759519,\n",
       "        1385170.34068136, 1390941.88376753, 1396713.42685371,\n",
       "        1402484.96993988, 1408256.51302605, 1414028.05611222,\n",
       "        1419799.5991984 , 1425571.14228457, 1431342.68537074,\n",
       "        1437114.22845691, 1442885.77154309, 1448657.31462926,\n",
       "        1454428.85771543, 1460200.4008016 , 1465971.94388778,\n",
       "        1471743.48697395, 1477515.03006012, 1483286.57314629,\n",
       "        1489058.11623246, 1494829.65931864, 1500601.20240481,\n",
       "        1506372.74549098, 1512144.28857715, 1517915.83166333,\n",
       "        1523687.3747495 , 1529458.91783567, 1535230.46092184,\n",
       "        1541002.00400802, 1546773.54709419, 1552545.09018036,\n",
       "        1558316.63326653, 1564088.17635271, 1569859.71943888,\n",
       "        1575631.26252505, 1581402.80561122, 1587174.34869739,\n",
       "        1592945.89178357, 1598717.43486974, 1604488.97795591,\n",
       "        1610260.52104208, 1616032.06412826, 1621803.60721443,\n",
       "        1627575.1503006 , 1633346.69338677, 1639118.23647295,\n",
       "        1644889.77955912, 1650661.32264529, 1656432.86573146,\n",
       "        1662204.40881764, 1667975.95190381, 1673747.49498998,\n",
       "        1679519.03807615, 1685290.58116232, 1691062.1242485 ,\n",
       "        1696833.66733467, 1702605.21042084, 1708376.75350701,\n",
       "        1714148.29659319, 1719919.83967936, 1725691.38276553,\n",
       "        1731462.9258517 , 1737234.46893788, 1743006.01202405,\n",
       "        1748777.55511022, 1754549.09819639, 1760320.64128256,\n",
       "        1766092.18436874, 1771863.72745491, 1777635.27054108,\n",
       "        1783406.81362725, 1789178.35671343, 1794949.8997996 ,\n",
       "        1800721.44288577, 1806492.98597194, 1812264.52905812,\n",
       "        1818036.07214429, 1823807.61523046, 1829579.15831663,\n",
       "        1835350.70140281, 1841122.24448898, 1846893.78757515,\n",
       "        1852665.33066132, 1858436.8737475 , 1864208.41683367,\n",
       "        1869979.95991984, 1875751.50300601, 1881523.04609218,\n",
       "        1887294.58917836, 1893066.13226453, 1898837.6753507 ,\n",
       "        1904609.21843687, 1910380.76152305, 1916152.30460922,\n",
       "        1921923.84769539, 1927695.39078156, 1933466.93386774,\n",
       "        1939238.47695391, 1945010.02004008, 1950781.56312625,\n",
       "        1956553.10621242, 1962324.6492986 , 1968096.19238477,\n",
       "        1973867.73547094, 1979639.27855711, 1985410.82164329,\n",
       "        1991182.36472946, 1996953.90781563, 2002725.4509018 ,\n",
       "        2008496.99398798, 2014268.53707415, 2020040.08016032,\n",
       "        2025811.62324649, 2031583.16633267, 2037354.70941884,\n",
       "        2043126.25250501, 2048897.79559118, 2054669.33867735,\n",
       "        2060440.88176353, 2066212.4248497 , 2071983.96793587,\n",
       "        2077755.51102204, 2083527.05410822, 2089298.59719439,\n",
       "        2095070.14028056, 2100841.68336673, 2106613.22645291,\n",
       "        2112384.76953908, 2118156.31262525, 2123927.85571142,\n",
       "        2129699.39879759, 2135470.94188377, 2141242.48496994,\n",
       "        2147014.02805611, 2152785.57114228, 2158557.11422846,\n",
       "        2164328.65731463, 2170100.2004008 , 2175871.74348697,\n",
       "        2181643.28657315, 2187414.82965932, 2193186.37274549,\n",
       "        2198957.91583166, 2204729.45891784, 2210501.00200401,\n",
       "        2216272.54509018, 2222044.08817635, 2227815.63126252,\n",
       "        2233587.1743487 , 2239358.71743487, 2245130.26052104,\n",
       "        2250901.80360721, 2256673.34669339, 2262444.88977956,\n",
       "        2268216.43286573, 2273987.9759519 , 2279759.51903808,\n",
       "        2285531.06212425, 2291302.60521042, 2297074.14829659,\n",
       "        2302845.69138277, 2308617.23446894, 2314388.77755511,\n",
       "        2320160.32064128, 2325931.86372745, 2331703.40681363,\n",
       "        2337474.9498998 , 2343246.49298597, 2349018.03607214,\n",
       "        2354789.57915832, 2360561.12224449, 2366332.66533066,\n",
       "        2372104.20841683, 2377875.75150301, 2383647.29458918,\n",
       "        2389418.83767535, 2395190.38076152, 2400961.9238477 ,\n",
       "        2406733.46693387, 2412505.01002004, 2418276.55310621,\n",
       "        2424048.09619238, 2429819.63927856, 2435591.18236473,\n",
       "        2441362.7254509 , 2447134.26853707, 2452905.81162325,\n",
       "        2458677.35470942, 2464448.89779559, 2470220.44088176,\n",
       "        2475991.98396794, 2481763.52705411, 2487535.07014028,\n",
       "        2493306.61322645, 2499078.15631262, 2504849.6993988 ,\n",
       "        2510621.24248497, 2516392.78557114, 2522164.32865731,\n",
       "        2527935.87174349, 2533707.41482966, 2539478.95791583,\n",
       "        2545250.501002  , 2551022.04408818, 2556793.58717435,\n",
       "        2562565.13026052, 2568336.67334669, 2574108.21643287,\n",
       "        2579879.75951904, 2585651.30260521, 2591422.84569138,\n",
       "        2597194.38877755, 2602965.93186373, 2608737.4749499 ,\n",
       "        2614509.01803607, 2620280.56112224, 2626052.10420842,\n",
       "        2631823.64729459, 2637595.19038076, 2643366.73346693,\n",
       "        2649138.27655311, 2654909.81963928, 2660681.36272545,\n",
       "        2666452.90581162, 2672224.4488978 , 2677995.99198397,\n",
       "        2683767.53507014, 2689539.07815631, 2695310.62124249,\n",
       "        2701082.16432866, 2706853.70741483, 2712625.250501  ,\n",
       "        2718396.79358717, 2724168.33667335, 2729939.87975952,\n",
       "        2735711.42284569, 2741482.96593186, 2747254.50901804,\n",
       "        2753026.05210421, 2758797.59519038, 2764569.13827655,\n",
       "        2770340.68136273, 2776112.2244489 , 2781883.76753507,\n",
       "        2787655.31062124, 2793426.85370741, 2799198.39679359,\n",
       "        2804969.93987976, 2810741.48296593, 2816513.0260521 ,\n",
       "        2822284.56913828, 2828056.11222445, 2833827.65531062,\n",
       "        2839599.19839679, 2845370.74148297, 2851142.28456914,\n",
       "        2856913.82765531, 2862685.37074148, 2868456.91382766,\n",
       "        2874228.45691383, 2880000.        ]),\n",
       " 'mass_transfer':     PFHpA\n",
       " kf    0.0\n",
       " dp    0.0\n",
       " ds    0.0,\n",
       " 'tconv': 1.2140528741270965e-05,\n",
       " 'ydot': array([[ 0.00000000e+00,  0.00000000e+00,  0.00000000e+00, ...,\n",
       "          0.00000000e+00,  0.00000000e+00,  0.00000000e+00],\n",
       "        [ 0.00000000e+00,  7.38332327e-22,  3.18366563e-21, ...,\n",
       "          2.55649846e-02,  2.55850871e-02,  2.56032917e-02],\n",
       "        [ 0.00000000e+00, -2.10713419e-22, -9.08514558e-22, ...,\n",
       "          2.53617798e-02,  2.53801511e-02,  2.53968065e-02],\n",
       "        ...,\n",
       "        [ 0.00000000e+00, -7.89050888e-08, -1.57761445e-07, ...,\n",
       "          4.19808344e-02,  4.20100453e-02,  4.20365911e-02],\n",
       "        [ 0.00000000e+00,  5.00832398e-08,  1.00153327e-07, ...,\n",
       "          4.16246371e-02,  4.16518843e-02,  4.16766423e-02],\n",
       "        [ 0.00000000e+00,  0.00000000e+00,  0.00000000e+00, ...,\n",
       "          4.15398523e-02,  4.15666856e-02,  4.15910658e-02]]),\n",
       " 'yt': array([0.00000000e+00, 3.69964193e-08, 7.39928386e-08, ...,\n",
       "        1.23841423e+02, 1.23924756e+02, 1.24000000e+02])}"
      ]
     },
     "execution_count": 10,
     "metadata": {},
     "output_type": "execute_result"
    }
   ],
   "source": [
    "column.__dict__"
   ]
  },
  {
   "cell_type": "code",
   "execution_count": 36,
   "id": "4b5d588c-d183-4412-a485-30655de69978",
   "metadata": {
    "tags": []
   },
   "outputs": [
    {
     "ename": "AttributeError",
     "evalue": "'PSDM' object has no attribute 'y0tmp'",
     "output_type": "error",
     "traceback": [
      "\u001b[1;31m---------------------------------------------------------------------------\u001b[0m",
      "\u001b[1;31mAttributeError\u001b[0m                            Traceback (most recent call last)",
      "Cell \u001b[1;32mIn[36], line 1\u001b[0m\n\u001b[1;32m----> 1\u001b[0m column\u001b[38;5;241m.\u001b[39my0tmp\n",
      "\u001b[1;31mAttributeError\u001b[0m: 'PSDM' object has no attribute 'y0tmp'"
     ]
    }
   ],
   "source": [
    "column.y0tmp"
   ]
  },
  {
   "cell_type": "markdown",
   "id": "8ef08dd0-953c-47d2-9877-5a6829b65ecf",
   "metadata": {},
   "source": [
    "# Advanced Example\n",
    "\n",
    "Demonstrating Fitting Capabilities.\n",
    "\n",
    "Reloading all information for clarity.\n",
    "\n",
    "Using \"data_optimize\" sheet, which contains time series of effluent breakthrough."
   ]
  },
  {
   "cell_type": "code",
   "execution_count": 12,
   "id": "41e875a3-ca48-4cae-9b0f-3211fb97aafc",
   "metadata": {
    "tags": []
   },
   "outputs": [],
   "source": [
    "#reset files, just in case\n",
    "chem_data = PSDM.process_input_data(fn, sheet_name='Properties') \n",
    "k_data = pd.read_excel(fn, sheet_name='Kdata',index_col=0) # K & 1/n data\n",
    "\n",
    "raw_data, column_info,\\\n",
    "compounds, carbons, = PSDM.process_input_file(fn,\\\n",
    "                                               data_sheet='data_optimize',\\\n",
    "                                               column_sheet='columnSpecs'\n",
    "                                              )\n",
    "## note data_sheet is now 'data_optimize'\n",
    "\n",
    "chem_type = 'halogenated alkanes'\n",
    "water_type = 'Rhine'"
   ]
  },
  {
   "cell_type": "code",
   "execution_count": 13,
   "id": "df2da65a-b0ee-44e9-a28a-211823f59fca",
   "metadata": {
    "tags": []
   },
   "outputs": [
    {
     "name": "stdout",
     "output_type": "stream",
     "text": [
      "Trichloroethylene\n",
      "Trichloroethylene  running\n",
      "K: 224.958 -- 1/n: 0.750\n",
      "      Trichloroethylene\n",
      "K            224.957626\n",
      "1/n            0.750000\n",
      "q          14580.089694\n",
      "brk           31.944444\n",
      "AveC        1340.277778\n"
     ]
    },
    {
     "data": {
      "image/png": "[encoded data removed]",
      "text/plain": [
       "<Figure size 640x480 with 1 Axes>"
      ]
     },
     "metadata": {},
     "output_type": "display_data"
    }
   ],
   "source": [
    "## This step can take a few minutes\n",
    "for comp in compounds:\n",
    "    print(comp)\n",
    "    column = PSDM.PSDM(column_info[carbons[0]], \n",
    "                   chem_data, \n",
    "                   raw_data,\n",
    "                   nr=8,\n",
    "                   nz=12, \n",
    "                   # k_data=k_data,\n",
    "                   chem_type=chem_type,\n",
    "                   water_type=water_type,\n",
    "                   optimize=False\n",
    "                   )\n",
    "    \n",
    "    \n",
    "    column.test_range = np.array([k_data[comp]['K']])\n",
    "    column.xn_range = np.array([k_data[comp]['1/n']])\n",
    "    \n",
    "    # RUNNING the simulation\n",
    "    #only results is used in this example\n",
    "    _compound, _k, _xn, _ssqs, results = column.run_psdm_kfit(comp)\n",
    "    \n",
    "    # print(results['data'][np.linspace(0,175,36)])\n",
    "    \n",
    "    plt.plot(results.index, \n",
    "             results.values/1000,':',\n",
    "             label='True Case: K: %i, 1/n: %.2f' % (k_data[comp]['K'],k_data[comp]['1/n'])\n",
    "             )\n",
    "    (raw_data[column_info[carbons[0]]['influentID']][comp]/1000).plot.line(label='influent',linestyle=':')\n",
    "    (raw_data[carbons[0]][comp]/1000.).plot.line(label='effluent', marker='o',linestyle='--')\n",
    "    \n",
    "    \n",
    "    column.xn_range = np.linspace(.3,.75,19) # increment 0.025\n",
    "    # checks +/- 30% of estimated K (pm=30), \n",
    "    # and scans 1/n space in 0.01 step sizes (des_xn=0.01)\n",
    "    column.run_all_smart(pm=30, des_xn=0.01)\n",
    "    \n",
    "    #Best fit was saved back to column.k_data\n",
    "    print(column.k_data)\n",
    "    \n",
    "    column.xn_range = np.array([column.k_data[comp]['1/n']])\n",
    "    column.test_range = np.array([column.k_data[comp]['K']])\n",
    "    _compound, _k, _xn, _ssqs, results2 = column.run_psdm_kfit(comp)\n",
    "    \n",
    "    plt.plot(results2.index,\n",
    "             results2.values/1000.,\n",
    "             label='Best Fit')\n",
    "    \n",
    "    \n",
    "    # Plot Labels, etc.\n",
    "    plt.legend()\n",
    "    plt.title(comp+'\\nK: '+repr(round(_k,2))+' ($\\mu$g/g)(L/$\\mu$g)$^{1/n}$ - 1/n: '+repr(round(_xn,3)))\n",
    "    plt.xlabel(column_info[carbons[0]]['time'])\n",
    "    plt.ylabel('Concentration - mg/L (ppm)')\n",
    "    plt.savefig(comp+'_'+carbons[0]+'_example3.png', dpi=300)\n"
   ]
  },
  {
   "cell_type": "code",
   "execution_count": 14,
   "id": "fd65771a-4f57-4aa4-995e-1b533f4a6cb4",
   "metadata": {
    "tags": []
   },
   "outputs": [
    {
     "data": {
      "text/html": [
       "<div>\n",
       "<style scoped>\n",
       "    .dataframe tbody tr th:only-of-type {\n",
       "        vertical-align: middle;\n",
       "    }\n",
       "\n",
       "    .dataframe tbody tr th {\n",
       "        vertical-align: top;\n",
       "    }\n",
       "\n",
       "    .dataframe thead th {\n",
       "        text-align: right;\n",
       "    }\n",
       "</style>\n",
       "<table border=\"1\" class=\"dataframe\">\n",
       "  <thead>\n",
       "    <tr style=\"text-align: right;\">\n",
       "      <th></th>\n",
       "      <th>Trichloroethylene</th>\n",
       "    </tr>\n",
       "  </thead>\n",
       "  <tbody>\n",
       "    <tr>\n",
       "      <th>K</th>\n",
       "      <td>224.957626</td>\n",
       "    </tr>\n",
       "    <tr>\n",
       "      <th>1/n</th>\n",
       "      <td>0.750000</td>\n",
       "    </tr>\n",
       "    <tr>\n",
       "      <th>q</th>\n",
       "      <td>14580.089694</td>\n",
       "    </tr>\n",
       "    <tr>\n",
       "      <th>brk</th>\n",
       "      <td>31.944444</td>\n",
       "    </tr>\n",
       "    <tr>\n",
       "      <th>AveC</th>\n",
       "      <td>1340.277778</td>\n",
       "    </tr>\n",
       "  </tbody>\n",
       "</table>\n",
       "</div>"
      ],
      "text/plain": [
       "      Trichloroethylene\n",
       "K            224.957626\n",
       "1/n            0.750000\n",
       "q          14580.089694\n",
       "brk           31.944444\n",
       "AveC        1340.277778"
      ]
     },
     "execution_count": 14,
     "metadata": {},
     "output_type": "execute_result"
    }
   ],
   "source": [
    "column.k_data"
   ]
  },
  {
   "cell_type": "markdown",
   "id": "22893ba3-47fc-444d-b111-40ecb949bfa8",
   "metadata": {},
   "source": [
    "# ALTERNATE OPTIMIZER\n",
    "Depending on selections this can take 1+ hours per compound !!!!\n",
    "\n",
    "Instead of:\n",
    "\n",
    "column.xn_range = np.linspace(.3,.75,19) # increments by 0.025\n",
    "\n",
    "column.run_all_smart(pm=30, des_xn=0.01)\n",
    "            \n",
    "            checks +/- 30% of estimated K (pm=30), \n",
    "            and scans 1/n space in 0.01 step sizes (des_xn=0.01)\n",
    "\n",
    "in previous snippet.\n",
    "\n",
    "Use:\n",
    "\n",
    "column.xn_range = np.linspace(0.3, 0.75, 46) \n",
    "\n",
    "            46 = interval 0.01 (19 is 0.025, for 0.3-0.75)\n",
    "            \n",
    "column.test_range = np.linspace(1, 5, 41)\n",
    "\n",
    "            41 gives you 0.1 increment on K_multiplier\n",
    "            K would not be expected to be lower than 1, but upper \n",
    "            bound of 3 to 4 may be sufficient to capture any real \n",
    "            values\n",
    "    \n",
    "Then include:\n",
    "\n",
    "column.run_all()\n",
    "        \n",
    "        or\n",
    "\n",
    "column.run_all(optimize='brute') #run only this line or the line above, not both\n",
    "\n",
    "best fits are again stored back to 'column.k_data'\n",
    "\n",
    "    \n",
    "run_all() by default uses a multi-staged brute force approach. This subdivides the space into coarse grids, and performs a series of refining steps. \n",
    "\n",
    "'optimizer=brute' searches every combination of xn_range and test_range, while the default 'staged' behavior attempts to quickly locate the minimum by taking a coarser search while seeking the minimum. \n",
    "    \n",
    "including 'optimize=brute' could be used after run_all_smart() or the staged approach to ensure that the K & 1/n values around a minimum were thoroughly searched.\n",
    "    \n",
    "## Performance: \n",
    "                brute (1+ hours per compound)\n",
    "                staged (~5-10+ minutes per compound, depending on complexity)\n",
    "                using run_all_smart (~2-15 minutes per compound)\n",
    "  \n",
    "\n",
    "\n",
    "# Final Notes: \n",
    "If you got this far, you may be interested in using this for \n",
    "larger datasets. In the above examples, each of the examples is set up\n",
    "for looped execution. If you provide datasets with more than one compound\n",
    "in the data sheet (and associated properties) then this will loop over each\n",
    "compound individually.\n"
   ]
  }
 ],
 "metadata": {
  "kernelspec": {
   "display_name": "Python 3 (ipykernel)",
   "language": "python",
   "name": "python3"
  },
  "language_info": {
   "codemirror_mode": {
    "name": "ipython",
    "version": 3
   },
   "file_extension": ".py",
   "mimetype": "text/x-python",
   "name": "python",
   "nbconvert_exporter": "python",
   "pygments_lexer": "ipython3",
   "version": "3.11.5"
  }
 },
 "nbformat": 4,
 "nbformat_minor": 5
}
